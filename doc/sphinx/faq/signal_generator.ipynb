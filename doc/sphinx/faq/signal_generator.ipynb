{
 "cells": [
  {
   "cell_type": "markdown",
   "metadata": {},
   "source": [
    "# Signal Generator"
   ]
  },
  {
   "cell_type": "markdown",
   "metadata": {},
   "source": [
    "## How can I change the flux model of my sources (for my signal events)?"
   ]
  },
  {
   "cell_type": "raw",
   "metadata": {
    "raw_mimetype": "text/restructuredtext"
   },
   "source": [
    "When SkyLLH generates pseudo data for an analysis, it will generate background\n",
    "and signal events. It might be useful to change the flux model of sources to\n",
    "generate signal events following a different flux model as originally choosen\n",
    "when the analysis was created.\n",
    "\n",
    "The most general procedure to change the flux model(s) of the source(s) of the \n",
    "signal generator is to create a new signal generator with a \n",
    ":py:class:`~skyllh.core.source_hypo_grouping.SourceHypoGroupManager` instance \n",
    "that includes the sources with the changed flux model.\n",
    "\n",
    ".. note::\n",
    "\n",
    "    If the flux model(s) of the source(s) should be set for the analysis itself,\n",
    "    i.e. also for the detector signal yield calculation, which is used to weigh\n",
    "    the datasets of a multi-dataset analysis, the \n",
    "    :py:meth:`~skyllh.core.analysis.Analysis.change_shg_mgr` method should be\n",
    "    called with the new \n",
    "    :py:class:`~skyllh.core.source_hypo_grouping.SourceHypoGroupManager` \n",
    "    instance."
   ]
  }
 ],
 "metadata": {
  "kernelspec": {
   "display_name": "Python 3",
   "language": "python",
   "name": "python3"
  },
  "language_info": {
   "codemirror_mode": {
    "name": "ipython",
    "version": 3
   },
   "file_extension": ".py",
   "mimetype": "text/x-python",
   "name": "python",
   "nbconvert_exporter": "python",
   "pygments_lexer": "ipython3",
   "version": "3.10.12"
  },
  "orig_nbformat": 4
 },
 "nbformat": 4,
 "nbformat_minor": 2
}
