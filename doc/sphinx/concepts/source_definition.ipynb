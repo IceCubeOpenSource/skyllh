{
 "cells": [
  {
   "cell_type": "code",
   "execution_count": 1,
   "id": "a19de9df",
   "metadata": {},
   "outputs": [],
   "source": [
    "%load_ext autoreload\n",
    "%autoreload 2"
   ]
  },
  {
   "cell_type": "code",
   "execution_count": 2,
   "id": "78bdd690",
   "metadata": {},
   "outputs": [],
   "source": [
    "import numpy as np"
   ]
  },
  {
   "cell_type": "markdown",
   "id": "f60248cd",
   "metadata": {},
   "source": [
    "Source Definition\n",
    "=============="
   ]
  },
  {
   "cell_type": "raw",
   "id": "215f9e0b",
   "metadata": {
    "raw_mimetype": "text/restructuredtext"
   },
   "source": [
    "SkyLLH provides the base class :py:class:`skyllh.physics.source.SourceModel` to define a source class. `SourceModel` is derived from the :py:class:`skyllh.core.model.Model` class, which is the base class for all kind of models in SkyLLH. A source model can have an astronomical classification and a source weight w.r.t. other sources."
   ]
  },
  {
   "cell_type": "code",
   "execution_count": 3,
   "id": "900fd0cf",
   "metadata": {},
   "outputs": [
    {
     "name": "stdout",
     "output_type": "stream",
     "text": [
      "Help on class SourceModel in module skyllh.physics.source:\n",
      "\n",
      "class SourceModel(skyllh.core.model.Model)\n",
      " |  SourceModel(classification=None, weight=None, *args, **kwargs)\n",
      " |  \n",
      " |  The base class for all source models in SkyLLH. A source can have a\n",
      " |  relative weight w.r.t. other sources.\n",
      " |  \n",
      " |  Method resolution order:\n",
      " |      SourceModel\n",
      " |      skyllh.core.model.Model\n",
      " |      builtins.object\n",
      " |  \n",
      " |  Methods defined here:\n",
      " |  \n",
      " |  __init__(self, classification=None, weight=None, *args, **kwargs)\n",
      " |      Creates a new source model instance.\n",
      " |      \n",
      " |      Parameters\n",
      " |      ----------\n",
      " |      classification : str | None\n",
      " |          The astronomical classification of the source.\n",
      " |      weight : float | None\n",
      " |          The relative weight of the source w.r.t. other sources.\n",
      " |          If set to None, unity will be used.\n",
      " |  \n",
      " |  ----------------------------------------------------------------------\n",
      " |  Data descriptors defined here:\n",
      " |  \n",
      " |  classification\n",
      " |      The astronomical classification of the source.\n",
      " |  \n",
      " |  weight\n",
      " |      The weight of the source. This can be None,\n",
      " |  \n",
      " |  ----------------------------------------------------------------------\n",
      " |  Readonly properties inherited from skyllh.core.model.Model:\n",
      " |  \n",
      " |  id\n",
      " |      (read-only) The ID of the model. It's an integer generated with\n",
      " |      Python's `id` function. Hence, it's related to the memory address\n",
      " |      of the object.\n",
      " |  \n",
      " |  ----------------------------------------------------------------------\n",
      " |  Data descriptors inherited from skyllh.core.model.Model:\n",
      " |  \n",
      " |  __dict__\n",
      " |      dictionary for instance variables (if defined)\n",
      " |  \n",
      " |  __weakref__\n",
      " |      list of weak references to the object (if defined)\n",
      " |  \n",
      " |  name\n",
      " |      The name of the model.\n",
      "\n"
     ]
    }
   ],
   "source": [
    "from skyllh.physics.source import SourceModel\n",
    "help(SourceModel)"
   ]
  },
  {
   "cell_type": "markdown",
   "id": "e293af1c",
   "metadata": {},
   "source": [
    "Point-Like Sources\n",
    "---"
   ]
  },
  {
   "cell_type": "raw",
   "id": "2058b9be",
   "metadata": {
    "raw_mimetype": "text/restructuredtext"
   },
   "source": [
    "SkyLLH provides the :py:class:`skyllh.physics.source.PointLikeSource` class for a point-like source at a certain right-ascention and declination coordinate."
   ]
  },
  {
   "cell_type": "code",
   "execution_count": 4,
   "id": "b0010f22",
   "metadata": {},
   "outputs": [],
   "source": [
    "from skyllh.physics.source import PointLikeSource"
   ]
  },
  {
   "cell_type": "code",
   "execution_count": 5,
   "id": "b32219cc",
   "metadata": {},
   "outputs": [
    {
     "name": "stdout",
     "output_type": "stream",
     "text": [
      "Help on class PointLikeSource in module skyllh.physics.source:\n",
      "\n",
      "class PointLikeSource(IsPointlike, SourceModel)\n",
      " |  PointLikeSource(ra, dec, name=None, weight=None, *args, **kwargs)\n",
      " |  \n",
      " |  The PointLikeSource class is a source model for a point-like source\n",
      " |  object in the sky at a given location (right-ascention and declination).\n",
      " |  \n",
      " |  Method resolution order:\n",
      " |      PointLikeSource\n",
      " |      IsPointlike\n",
      " |      SourceModel\n",
      " |      skyllh.core.model.Model\n",
      " |      builtins.object\n",
      " |  \n",
      " |  Methods defined here:\n",
      " |  \n",
      " |  __init__(self, ra, dec, name=None, weight=None, *args, **kwargs)\n",
      " |      Creates a new PointLikeSource instance for defining a point-like\n",
      " |      source.\n",
      " |      \n",
      " |      Parameters\n",
      " |      ----------\n",
      " |      ra : float\n",
      " |          The right-ascention coordinate of the source in radians.\n",
      " |      dec : float\n",
      " |          The declination coordinate of the source in radians.\n",
      " |      name : str | None\n",
      " |          The name of the source.\n",
      " |      weight : float | None\n",
      " |          The relative weight of the source w.r.t. other sources.\n",
      " |          If set to None, unity will be used.\n",
      " |  \n",
      " |  __str__(self)\n",
      " |      Pretty string representation.\n",
      " |  \n",
      " |  ----------------------------------------------------------------------\n",
      " |  Data descriptors inherited from IsPointlike:\n",
      " |  \n",
      " |  __dict__\n",
      " |      dictionary for instance variables (if defined)\n",
      " |  \n",
      " |  __weakref__\n",
      " |      list of weak references to the object (if defined)\n",
      " |  \n",
      " |  dec\n",
      " |      The declination coordinate of the point-like source.\n",
      " |  \n",
      " |  ra\n",
      " |      The right-ascention coordinate of the point-like source.\n",
      " |  \n",
      " |  ----------------------------------------------------------------------\n",
      " |  Data descriptors inherited from SourceModel:\n",
      " |  \n",
      " |  classification\n",
      " |      The astronomical classification of the source.\n",
      " |  \n",
      " |  weight\n",
      " |      The weight of the source. This can be None,\n",
      " |  \n",
      " |  ----------------------------------------------------------------------\n",
      " |  Readonly properties inherited from skyllh.core.model.Model:\n",
      " |  \n",
      " |  id\n",
      " |      (read-only) The ID of the model. It's an integer generated with\n",
      " |      Python's `id` function. Hence, it's related to the memory address\n",
      " |      of the object.\n",
      " |  \n",
      " |  ----------------------------------------------------------------------\n",
      " |  Data descriptors inherited from skyllh.core.model.Model:\n",
      " |  \n",
      " |  name\n",
      " |      The name of the model.\n",
      "\n"
     ]
    }
   ],
   "source": [
    "help(PointLikeSource)"
   ]
  },
  {
   "cell_type": "code",
   "execution_count": 6,
   "id": "b21aedf9",
   "metadata": {},
   "outputs": [
    {
     "name": "stdout",
     "output_type": "stream",
     "text": [
      "PointLikeSource: \"TXS 0506+056\": { ra=77.350 deg, dec=5.700 deg }\n"
     ]
    }
   ],
   "source": [
    "src = PointLikeSource(ra=np.radians(77.35), dec=np.radians(5.7), name='TXS 0506+056', classification=None)\n",
    "print(src)"
   ]
  },
  {
   "cell_type": "markdown",
   "id": "cb30310b",
   "metadata": {},
   "source": [
    "Source Catalogs\n",
    "---"
   ]
  },
  {
   "cell_type": "raw",
   "id": "ececc712",
   "metadata": {
    "raw_mimetype": "text/restructuredtext"
   },
   "source": [
    "SkyLLH provides the class :py:class:`skyllh.physics.source.SourceCatalog` for creating a catalog of sources."
   ]
  },
  {
   "cell_type": "code",
   "execution_count": 7,
   "id": "0dce7e5c",
   "metadata": {},
   "outputs": [],
   "source": [
    "from skyllh.physics.source import SourceCatalog"
   ]
  },
  {
   "cell_type": "code",
   "execution_count": 8,
   "id": "8221243c",
   "metadata": {},
   "outputs": [
    {
     "name": "stdout",
     "output_type": "stream",
     "text": [
      "Help on class SourceCatalog in module skyllh.physics.source:\n",
      "\n",
      "class SourceCatalog(SourceCollection)\n",
      " |  SourceCatalog(name, sources=None, source_type=None)\n",
      " |  \n",
      " |  This class describes a catalog of sources. It is derived from\n",
      " |  SourceCollection. A catalog has a name.\n",
      " |  \n",
      " |  Method resolution order:\n",
      " |      SourceCatalog\n",
      " |      SourceCollection\n",
      " |      skyllh.core.py.ObjectCollection\n",
      " |      builtins.object\n",
      " |  \n",
      " |  Methods defined here:\n",
      " |  \n",
      " |  __init__(self, name, sources=None, source_type=None)\n",
      " |      Creates a new source catalog.\n",
      " |      \n",
      " |      Parameters\n",
      " |      ----------\n",
      " |      name : str\n",
      " |          The name of the catalog.\n",
      " |      sources : sequence of source_type | None\n",
      " |          The sequence of sources this catalog should be initalized with.\n",
      " |      source_type : class object | None\n",
      " |          The class object of the source class. If set to None (default), the\n",
      " |          default class object defined by SourceCollection will be used.\n",
      " |  \n",
      " |  __str__(self)\n",
      " |      Pretty string representation of this object collection.\n",
      " |  \n",
      " |  as_SourceCollection(self)\n",
      " |      Creates a SourceCollection object for this catalog and returns it.\n",
      " |  \n",
      " |  ----------------------------------------------------------------------\n",
      " |  Data descriptors defined here:\n",
      " |  \n",
      " |  name\n",
      " |      The name of the catalog.\n",
      " |  \n",
      " |  ----------------------------------------------------------------------\n",
      " |  Static methods inherited from SourceCollection:\n",
      " |  \n",
      " |  cast(obj, errmsg)\n",
      " |      Casts the given object to a SourceCollection object. If the cast\n",
      " |      fails, a TypeError with the given error message is raised.\n",
      " |      \n",
      " |      Parameters\n",
      " |      ----------\n",
      " |      obj : SourceModel | sequence of SourceModel | SourceCollection\n",
      " |          The object that should be casted to SourceCollection.\n",
      " |      errmsg : str\n",
      " |          The error message if the cast fails.\n",
      " |      \n",
      " |      Raises\n",
      " |      ------\n",
      " |      TypeError\n",
      " |          If the cast fails.\n",
      " |  \n",
      " |  ----------------------------------------------------------------------\n",
      " |  Readonly properties inherited from SourceCollection:\n",
      " |  \n",
      " |  source_type\n",
      " |      (read-only) The type of the source model.\n",
      " |  \n",
      " |  sources\n",
      " |      (read-only) The list of sources of type ``source_type``.\n",
      " |  \n",
      " |  ----------------------------------------------------------------------\n",
      " |  Methods inherited from skyllh.core.py.ObjectCollection:\n",
      " |  \n",
      " |  __add__(self, other)\n",
      " |      Implementation to support the operation ``oc = self + other``, where\n",
      " |      ``self`` is this ObjectCollection object and ``other`` something useful\n",
      " |      else. This creates a copy ``oc`` of ``self`` and adds ``other``\n",
      " |      to ``oc``.\n",
      " |      \n",
      " |      Parameters\n",
      " |      ----------\n",
      " |      other : obj_type | ObjectCollection of obj_type\n",
      " |      \n",
      " |      Returns\n",
      " |      -------\n",
      " |      oc : ObjectCollection\n",
      " |          The new ObjectCollection object with object from self and other.\n",
      " |  \n",
      " |  __getitem__(self, key)\n",
      " |  \n",
      " |  __iadd__ = add(self, obj)\n",
      " |  \n",
      " |  __iter__(self)\n",
      " |  \n",
      " |  __len__(self)\n",
      " |      Returns the number of objects being in this object collection.\n",
      " |  \n",
      " |  add(self, obj)\n",
      " |      Adds the given object, sequence of objects, or object collection to\n",
      " |      this object collection.\n",
      " |      \n",
      " |      Parameters\n",
      " |      ----------\n",
      " |      obj : obj_type instance | sequence of obj_type |\n",
      " |            ObjectCollection of obj_type\n",
      " |          An instance of ``obj_type`` that should be added to the collection.\n",
      " |          If given an ObjectCollection for objects of type obj_type, it will\n",
      " |          add all objects of the given collection to this collection.\n",
      " |      \n",
      " |      Returns\n",
      " |      -------\n",
      " |      self : ObjectCollection\n",
      " |          The instance of this ObjectCollection, in order to be able to chain\n",
      " |          several ``add`` calls.\n",
      " |  \n",
      " |  copy(self)\n",
      " |      Creates a copy of this ObjectCollection. The objects of the\n",
      " |      collection are not copied!\n",
      " |  \n",
      " |  index(self, obj)\n",
      " |      Gets the index of the given object instance within this object\n",
      " |      collection.\n",
      " |      \n",
      " |      Parameters\n",
      " |      ----------\n",
      " |      obj : obj_type instance\n",
      " |          The instance of obj_type whose index should get retrieved.\n",
      " |      \n",
      " |      Returns\n",
      " |      -------\n",
      " |      idx : int\n",
      " |          The index of the object within this object collection.\n",
      " |  \n",
      " |  pop(self, index=None)\n",
      " |      Removes and returns the object at the given index (default last).\n",
      " |      Raises IndexError if the collection is empty or index is out of range.\n",
      " |      \n",
      " |      Parameters\n",
      " |      ----------\n",
      " |      index : int | None\n",
      " |          The index of the object to remove. If set to None, the index of the\n",
      " |          last object is used.\n",
      " |      \n",
      " |      Returns\n",
      " |      -------\n",
      " |      obj : obj_type\n",
      " |          The removed object.\n",
      " |  \n",
      " |  ----------------------------------------------------------------------\n",
      " |  Readonly properties inherited from skyllh.core.py.ObjectCollection:\n",
      " |  \n",
      " |  obj_type\n",
      " |      (read-only) The object type.\n",
      " |  \n",
      " |  objects\n",
      " |      (read-only) The list of objects of this object collection.\n",
      " |      All objects are of the same type as specified through the ``obj_type``\n",
      " |      property.\n",
      " |  \n",
      " |  ----------------------------------------------------------------------\n",
      " |  Data descriptors inherited from skyllh.core.py.ObjectCollection:\n",
      " |  \n",
      " |  __dict__\n",
      " |      dictionary for instance variables (if defined)\n",
      " |  \n",
      " |  __weakref__\n",
      " |      list of weak references to the object (if defined)\n",
      "\n"
     ]
    }
   ],
   "source": [
    "help(SourceCatalog)"
   ]
  },
  {
   "cell_type": "code",
   "execution_count": 9,
   "id": "1e7c1108",
   "metadata": {},
   "outputs": [],
   "source": [
    "catalog = SourceCatalog('IceCube 10y PS')\n",
    "catalog += (\n",
    "    PointLikeSource(name='TXS 0506+056', ra=np.radians(77.35), dec=np.radians(5.7), classification='BLL'),\n",
    "    PointLikeSource(name='NGC 1068', ra=np.radians(40.67), dec=np.radians(-0.01), classification='SBG')\n",
    ")"
   ]
  },
  {
   "cell_type": "markdown",
   "id": "ff758f70",
   "metadata": {},
   "source": [
    "The catalog can be printed easily with the print function:"
   ]
  },
  {
   "cell_type": "code",
   "execution_count": 10,
   "id": "dde5fbfe",
   "metadata": {},
   "outputs": [
    {
     "name": "stdout",
     "output_type": "stream",
     "text": [
      "\"IceCube 10y PS\" SourceCatalog: {\n",
      "    PointLikeSource: \"TXS 0506+056\": { ra=77.350 deg, dec=5.700 deg, classification=BLL },\n",
      "    PointLikeSource: \"NGC 1068\": { ra=40.670 deg, dec=-0.010 deg, classification=SBG }\n",
      "}\n"
     ]
    }
   ],
   "source": [
    "print(catalog)"
   ]
  },
  {
   "cell_type": "raw",
   "id": "885de32c",
   "metadata": {
    "raw_mimetype": "text/restructuredtext"
   },
   "source": [
    "The :py:class:`skyllh.physics.source.SourceCatalog` class is derived from the :py:class:`skyllh.core.py.ObjectCollection` class and hence implements the iterator protocol. Thus, the user can easily interate over the sources in the catalog:"
   ]
  },
  {
   "cell_type": "code",
   "execution_count": 11,
   "id": "ebf71719",
   "metadata": {},
   "outputs": [
    {
     "name": "stdout",
     "output_type": "stream",
     "text": [
      "PointLikeSource: \"TXS 0506+056\": { ra=77.350 deg, dec=5.700 deg, classification=BLL }\n",
      "PointLikeSource: \"NGC 1068\": { ra=40.670 deg, dec=-0.010 deg, classification=SBG }\n"
     ]
    }
   ],
   "source": [
    "for source in catalog:\n",
    "    print(source)"
   ]
  },
  {
   "cell_type": "code",
   "execution_count": null,
   "id": "712fd166",
   "metadata": {},
   "outputs": [],
   "source": []
  }
 ],
 "metadata": {
  "celltoolbar": "Raw Cell Format",
  "kernelspec": {
   "display_name": "Python 3",
   "language": "python",
   "name": "python3"
  },
  "language_info": {
   "codemirror_mode": {
    "name": "ipython",
    "version": 3
   },
   "file_extension": ".py",
   "mimetype": "text/x-python",
   "name": "python",
   "nbconvert_exporter": "python",
   "pygments_lexer": "ipython3",
   "version": "3.8.10"
  }
 },
 "nbformat": 4,
 "nbformat_minor": 5
}
