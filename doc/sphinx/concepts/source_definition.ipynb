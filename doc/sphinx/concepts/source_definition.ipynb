{
 "cells": [
  {
   "cell_type": "code",
   "execution_count": 1,
   "id": "ac820cc1",
   "metadata": {},
   "outputs": [],
   "source": [
    "%load_ext autoreload\n",
    "%autoreload 2"
   ]
  },
  {
   "cell_type": "code",
   "execution_count": 2,
   "id": "ee930f5d",
   "metadata": {},
   "outputs": [],
   "source": [
    "import numpy as np"
   ]
  },
  {
   "cell_type": "markdown",
   "id": "d5b5100e",
   "metadata": {},
   "source": [
    "# Source Definition"
   ]
  },
  {
   "cell_type": "raw",
   "id": "90c36e19",
   "metadata": {
    "raw_mimetype": "text/restructuredtext"
   },
   "source": [
    "SkyLLH provides the base class :py:class:`skyllh.core.model.SourceModel` to define a source class. `SourceModel` is derived from the :py:class:`skyllh.core.model.Model` class, which is the base class for all kind of models in SkyLLH. A source model can have an astronomical classification and a source weight w.r.t. other sources."
   ]
  },
  {
   "cell_type": "code",
   "execution_count": 3,
   "id": "4f048b6d",
   "metadata": {},
   "outputs": [
    {
     "name": "stdout",
     "output_type": "stream",
     "text": [
      "Help on class SourceModel in module skyllh.core.model:\n",
      "\n",
      "class SourceModel(Model)\n",
      " |  SourceModel(name=None, classification=None, weight=None, **kwargs)\n",
      " |  \n",
      " |  The base class for all source models in SkyLLH. A source can have a\n",
      " |  relative weight w.r.t. other sources.\n",
      " |  \n",
      " |  Method resolution order:\n",
      " |      SourceModel\n",
      " |      Model\n",
      " |      builtins.object\n",
      " |  \n",
      " |  Methods defined here:\n",
      " |  \n",
      " |  __init__(self, name=None, classification=None, weight=None, **kwargs)\n",
      " |      Creates a new source model instance.\n",
      " |      \n",
      " |      Parameters\n",
      " |      ----------\n",
      " |      name : str | None\n",
      " |          The name of the source model.\n",
      " |      classification : str | None\n",
      " |          The astronomical classification of the source.\n",
      " |      weight : float | None\n",
      " |          The relative weight of the source w.r.t. other sources.\n",
      " |          If set to None, unity will be used.\n",
      " |  \n",
      " |  ----------------------------------------------------------------------\n",
      " |  Data descriptors defined here:\n",
      " |  \n",
      " |  classification\n",
      " |      The astronomical classification of the source.\n",
      " |  \n",
      " |  weight\n",
      " |      The weight of the source. This can be None,\n",
      " |  \n",
      " |  ----------------------------------------------------------------------\n",
      " |  Readonly properties inherited from Model:\n",
      " |  \n",
      " |  id\n",
      " |      (read-only) The ID of the model. It's an integer generated with\n",
      " |      Python's `id` function. Hence, it's related to the memory address\n",
      " |      of the object.\n",
      " |  \n",
      " |  ----------------------------------------------------------------------\n",
      " |  Data descriptors inherited from Model:\n",
      " |  \n",
      " |  __dict__\n",
      " |      dictionary for instance variables (if defined)\n",
      " |  \n",
      " |  __weakref__\n",
      " |      list of weak references to the object (if defined)\n",
      " |  \n",
      " |  name\n",
      " |      The name of the model.\n",
      "\n"
     ]
    }
   ],
   "source": [
    "from skyllh.core.model import SourceModel\n",
    "help(SourceModel)"
   ]
  },
  {
   "cell_type": "markdown",
   "id": "16e7305d",
   "metadata": {},
   "source": [
    "## Point-Like Sources"
   ]
  },
  {
   "cell_type": "raw",
   "id": "a91e006f",
   "metadata": {
    "raw_mimetype": "text/restructuredtext"
   },
   "source": [
    "SkyLLH provides the :py:class:`skyllh.physics.source_model.PointLikeSource` class for a point-like source at a certain right-ascention and declination coordinate."
   ]
  },
  {
   "cell_type": "code",
   "execution_count": 4,
   "id": "6c72bc79",
   "metadata": {},
   "outputs": [],
   "source": [
    "from skyllh.physics.source_model import PointLikeSource"
   ]
  },
  {
   "cell_type": "code",
   "execution_count": 5,
   "id": "51d3d036",
   "metadata": {},
   "outputs": [
    {
     "name": "stdout",
     "output_type": "stream",
     "text": [
      "Help on class PointLikeSource in module skyllh.physics.source_model:\n",
      "\n",
      "class PointLikeSource(skyllh.core.model.SourceModel, IsPointlike)\n",
      " |  PointLikeSource(ra, dec, name=None, weight=None, **kwargs)\n",
      " |  \n",
      " |  The PointLikeSource class is a source model for a point-like source\n",
      " |  object in the sky at a given location (right-ascention and declination).\n",
      " |  \n",
      " |  Method resolution order:\n",
      " |      PointLikeSource\n",
      " |      skyllh.core.model.SourceModel\n",
      " |      skyllh.core.model.Model\n",
      " |      IsPointlike\n",
      " |      builtins.object\n",
      " |  \n",
      " |  Methods defined here:\n",
      " |  \n",
      " |  __init__(self, ra, dec, name=None, weight=None, **kwargs)\n",
      " |      Creates a new PointLikeSource instance for defining a point-like\n",
      " |      source.\n",
      " |      \n",
      " |      Parameters\n",
      " |      ----------\n",
      " |      ra : float\n",
      " |          The right-ascention coordinate of the source in radians.\n",
      " |      dec : float\n",
      " |          The declination coordinate of the source in radians.\n",
      " |      name : str | None\n",
      " |          The name of the source.\n",
      " |      weight : float | None\n",
      " |          The relative weight of the source w.r.t. other sources.\n",
      " |          If set to None, unity will be used.\n",
      " |  \n",
      " |  __str__(self)\n",
      " |      Pretty string representation.\n",
      " |  \n",
      " |  ----------------------------------------------------------------------\n",
      " |  Data descriptors inherited from skyllh.core.model.SourceModel:\n",
      " |  \n",
      " |  classification\n",
      " |      The astronomical classification of the source.\n",
      " |  \n",
      " |  weight\n",
      " |      The weight of the source. This can be None,\n",
      " |  \n",
      " |  ----------------------------------------------------------------------\n",
      " |  Readonly properties inherited from skyllh.core.model.Model:\n",
      " |  \n",
      " |  id\n",
      " |      (read-only) The ID of the model. It's an integer generated with\n",
      " |      Python's `id` function. Hence, it's related to the memory address\n",
      " |      of the object.\n",
      " |  \n",
      " |  ----------------------------------------------------------------------\n",
      " |  Data descriptors inherited from skyllh.core.model.Model:\n",
      " |  \n",
      " |  __dict__\n",
      " |      dictionary for instance variables (if defined)\n",
      " |  \n",
      " |  __weakref__\n",
      " |      list of weak references to the object (if defined)\n",
      " |  \n",
      " |  name\n",
      " |      The name of the model.\n",
      " |  \n",
      " |  ----------------------------------------------------------------------\n",
      " |  Data descriptors inherited from IsPointlike:\n",
      " |  \n",
      " |  dec\n",
      " |      The declination coordinate of the point-like source.\n",
      " |  \n",
      " |  ra\n",
      " |      The right-ascention coordinate of the point-like source.\n",
      "\n"
     ]
    }
   ],
   "source": [
    "help(PointLikeSource)"
   ]
  },
  {
   "cell_type": "code",
   "execution_count": 6,
   "id": "35fddcf6",
   "metadata": {},
   "outputs": [
    {
     "name": "stdout",
     "output_type": "stream",
     "text": [
      "PointLikeSource: \"TXS 0506+056\": { ra=77.350 deg, dec=5.700 deg }\n"
     ]
    }
   ],
   "source": [
    "src = PointLikeSource(ra=np.radians(77.35), dec=np.radians(5.7), name='TXS 0506+056', classification=None)\n",
    "print(src)"
   ]
  },
  {
   "cell_type": "markdown",
   "id": "65657887",
   "metadata": {},
   "source": [
    "## Source Catalogs"
   ]
  },
  {
   "cell_type": "raw",
   "id": "d7e68c10",
   "metadata": {
    "raw_mimetype": "text/restructuredtext"
   },
   "source": [
    "SkyLLH provides the class :py:class:`skyllh.core.catalog.SourceCatalog` for creating a catalog of sources."
   ]
  },
  {
   "cell_type": "code",
   "execution_count": 7,
   "id": "33830dd4",
   "metadata": {},
   "outputs": [],
   "source": [
    "from skyllh.core.catalog import SourceCatalog"
   ]
  },
  {
   "cell_type": "code",
   "execution_count": 8,
   "id": "f024cdd6",
   "metadata": {},
   "outputs": [
    {
     "name": "stdout",
     "output_type": "stream",
     "text": [
      "Help on class SourceCatalog in module skyllh.core.catalog:\n",
      "\n",
      "class SourceCatalog(skyllh.core.model.SourceModelCollection)\n",
      " |  SourceCatalog(name, sources=None, source_type=None, **kwargs)\n",
      " |  \n",
      " |  This class describes a catalog of sources. It is derived from\n",
      " |  SourceModelCollection. A catalog has a name.\n",
      " |  \n",
      " |  Method resolution order:\n",
      " |      SourceCatalog\n",
      " |      skyllh.core.model.SourceModelCollection\n",
      " |      skyllh.core.model.ModelCollection\n",
      " |      skyllh.core.py.NamedObjectCollection\n",
      " |      skyllh.core.py.ObjectCollection\n",
      " |      builtins.object\n",
      " |  \n",
      " |  Methods defined here:\n",
      " |  \n",
      " |  __init__(self, name, sources=None, source_type=None, **kwargs)\n",
      " |      Creates a new source catalog.\n",
      " |      \n",
      " |      Parameters\n",
      " |      ----------\n",
      " |      name : str\n",
      " |          The name of the catalog.\n",
      " |      sources : sequence of source_type | None\n",
      " |          The sequence of sources this catalog should be initalized with.\n",
      " |      source_type : type | None\n",
      " |          The type of the source class. If set to None (default), the\n",
      " |          default type defined by SourceCollection will be used.\n",
      " |  \n",
      " |  __str__(self)\n",
      " |      Pretty string representation of this object collection.\n",
      " |  \n",
      " |  as_SourceModelCollection(self)\n",
      " |      Creates a SourceModelCollection object for this catalog and\n",
      " |      returns it.\n",
      " |      \n",
      " |      Returns\n",
      " |      -------\n",
      " |      source_model_collection : SourceModelCollection instance\n",
      " |          The created SourceModelCollection instance.\n",
      " |  \n",
      " |  ----------------------------------------------------------------------\n",
      " |  Data descriptors defined here:\n",
      " |  \n",
      " |  name\n",
      " |      The name of the catalog.\n",
      " |  \n",
      " |  ----------------------------------------------------------------------\n",
      " |  Static methods inherited from skyllh.core.model.SourceModelCollection:\n",
      " |  \n",
      " |  cast(obj, errmsg=None, **kwargs)\n",
      " |      Casts the given object to a SourceModelCollection object. If the cast\n",
      " |      fails, a TypeError with the given error message is raised.\n",
      " |      \n",
      " |      Parameters\n",
      " |      ----------\n",
      " |      obj : SourceModel | sequence of SourceModel | SourceModelCollection |\n",
      " |              None\n",
      " |          The object that should be casted to SourceModelCollection.\n",
      " |          If set to None, an empty SourceModelCollection is created.\n",
      " |      errmsg : str | None\n",
      " |          The error message if the cast fails.\n",
      " |          If set to None, a generic error message will be used.\n",
      " |      \n",
      " |      Additional keyword arguments\n",
      " |      ----------------------------\n",
      " |      Additional keyword arguments are passed to the constructor of the\n",
      " |      SourceModelCollection class.\n",
      " |      \n",
      " |      Raises\n",
      " |      ------\n",
      " |      TypeError\n",
      " |          If the cast failed.\n",
      " |  \n",
      " |  ----------------------------------------------------------------------\n",
      " |  Readonly properties inherited from skyllh.core.model.SourceModelCollection:\n",
      " |  \n",
      " |  source_type\n",
      " |      (read-only) The type of the source model.\n",
      " |      This property is an alias for the `obj_type` property.\n",
      " |  \n",
      " |  sources\n",
      " |      (read-only) The list of sources of type ``source_type``.\n",
      " |  \n",
      " |  ----------------------------------------------------------------------\n",
      " |  Readonly properties inherited from skyllh.core.model.ModelCollection:\n",
      " |  \n",
      " |  model_type\n",
      " |      (read-only) The type of the model.\n",
      " |  \n",
      " |  models\n",
      " |      (read-only) The list of models of type `model_type`.\n",
      " |  \n",
      " |  ----------------------------------------------------------------------\n",
      " |  Methods inherited from skyllh.core.py.NamedObjectCollection:\n",
      " |  \n",
      " |  __getitem__(self, key)\n",
      " |      Returns an object based on its name or index.\n",
      " |      \n",
      " |      Parameters\n",
      " |      ----------\n",
      " |      key : str | int\n",
      " |          The object identification. Either its name or its index position\n",
      " |          within the object collection.\n",
      " |      \n",
      " |      Returns\n",
      " |      -------\n",
      " |      obj : instance of obj_type\n",
      " |          The requested object.\n",
      " |      \n",
      " |      Raises\n",
      " |      ------\n",
      " |      KeyError\n",
      " |          If the given object is not found within this object collection.\n",
      " |  \n",
      " |  __iadd__ = add(self, obj)\n",
      " |  \n",
      " |  add(self, obj)\n",
      " |      Adds the given object to this named object collection.\n",
      " |      \n",
      " |      Parameters\n",
      " |      ----------\n",
      " |      obj : obj_type instance | NamedObjectCollection of obj_type\n",
      " |          An instance of ``obj_type`` that should be added to this named\n",
      " |          object collection.\n",
      " |          If a NamedObjectCollection instance for objects of type ``obj_type``\n",
      " |          is given, all objects of that given collection will be added to this\n",
      " |          named object collection.\n",
      " |      \n",
      " |      Returns\n",
      " |      -------\n",
      " |      self : NamedObjectCollection\n",
      " |          The instance of this NamedObjectCollection, in order to be able to\n",
      " |          chain several ``add`` calls.\n",
      " |  \n",
      " |  get_index_by_name(self, name)\n",
      " |      Gets the index of the object with the given name within this named\n",
      " |      object collection.\n",
      " |      \n",
      " |      Parameters\n",
      " |      ----------\n",
      " |      name : str\n",
      " |          The name of the object whose index should get retrieved.\n",
      " |      \n",
      " |      Returns\n",
      " |      -------\n",
      " |      idx : int\n",
      " |          The index of the object within this named object collection.\n",
      " |  \n",
      " |  pop(self, index=None)\n",
      " |      Removes and returns the object at the given index (default last).\n",
      " |      Raises IndexError if the collection is empty or index is out of range.\n",
      " |      \n",
      " |      Parameters\n",
      " |      ----------\n",
      " |      index : int | str | None\n",
      " |          The index of the object to remove. If set to None, the index of the\n",
      " |          last object is used.\n",
      " |          If a str instance is given, it specifies the name of the object.\n",
      " |      \n",
      " |      Returns\n",
      " |      -------\n",
      " |      obj : obj_type instance\n",
      " |          The removed object.\n",
      " |  \n",
      " |  ----------------------------------------------------------------------\n",
      " |  Methods inherited from skyllh.core.py.ObjectCollection:\n",
      " |  \n",
      " |  __add__(self, other)\n",
      " |      Implementation to support the operation ``oc = self + other``, where\n",
      " |      ``self`` is this ObjectCollection object and ``other`` something useful\n",
      " |      else. This creates a copy ``oc`` of ``self`` and adds ``other``\n",
      " |      to ``oc``.\n",
      " |      \n",
      " |      Parameters\n",
      " |      ----------\n",
      " |      other : obj_type | ObjectCollection of obj_type\n",
      " |      \n",
      " |      Returns\n",
      " |      -------\n",
      " |      oc : ObjectCollection\n",
      " |          The new ObjectCollection object with object from self and other.\n",
      " |  \n",
      " |  __iter__(self)\n",
      " |  \n",
      " |  __len__(self)\n",
      " |      Returns the number of objects being in this object collection.\n",
      " |  \n",
      " |  copy(self)\n",
      " |      Creates a copy of this ObjectCollection. The objects of the\n",
      " |      collection are not copied!\n",
      " |  \n",
      " |  index(self, obj)\n",
      " |      Gets the index of the given object instance within this object\n",
      " |      collection.\n",
      " |      \n",
      " |      Parameters\n",
      " |      ----------\n",
      " |      obj : obj_type instance\n",
      " |          The instance of obj_type whose index should get retrieved.\n",
      " |      \n",
      " |      Returns\n",
      " |      -------\n",
      " |      idx : int\n",
      " |          The index of the object within this object collection.\n",
      " |  \n",
      " |  ----------------------------------------------------------------------\n",
      " |  Readonly properties inherited from skyllh.core.py.ObjectCollection:\n",
      " |  \n",
      " |  obj_type\n",
      " |      (read-only) The object type.\n",
      " |  \n",
      " |  objects\n",
      " |      (read-only) The list of objects of this object collection.\n",
      " |      All objects are of the same type as specified through the ``obj_type``\n",
      " |      property.\n",
      " |  \n",
      " |  ----------------------------------------------------------------------\n",
      " |  Data descriptors inherited from skyllh.core.py.ObjectCollection:\n",
      " |  \n",
      " |  __dict__\n",
      " |      dictionary for instance variables (if defined)\n",
      " |  \n",
      " |  __weakref__\n",
      " |      list of weak references to the object (if defined)\n",
      "\n"
     ]
    }
   ],
   "source": [
    "help(SourceCatalog)"
   ]
  },
  {
   "cell_type": "code",
   "execution_count": 9,
   "id": "160d9043",
   "metadata": {},
   "outputs": [],
   "source": [
    "catalog = SourceCatalog('IceCube 10y PS')\n",
    "catalog += (\n",
    "    PointLikeSource(name='TXS 0506+056', ra=np.radians(77.35), dec=np.radians(5.7), classification='BLL'),\n",
    "    PointLikeSource(name='NGC 1068', ra=np.radians(40.67), dec=np.radians(-0.01), classification='SBG')\n",
    ")"
   ]
  },
  {
   "cell_type": "markdown",
   "id": "56e86b95",
   "metadata": {},
   "source": [
    "The catalog can be printed easily with the print function:"
   ]
  },
  {
   "cell_type": "code",
   "execution_count": 10,
   "id": "52ef2e5d",
   "metadata": {},
   "outputs": [
    {
     "name": "stdout",
     "output_type": "stream",
     "text": [
      "\"IceCube 10y PS\" SourceCatalog: {\n",
      "    PointLikeSource: \"TXS 0506+056\": { ra=77.350 deg, dec=5.700 deg, classification=BLL },\n",
      "    PointLikeSource: \"NGC 1068\": { ra=40.670 deg, dec=-0.010 deg, classification=SBG }\n",
      "}\n"
     ]
    }
   ],
   "source": [
    "print(catalog)"
   ]
  },
  {
   "cell_type": "raw",
   "id": "ddc01798",
   "metadata": {
    "raw_mimetype": "text/restructuredtext"
   },
   "source": [
    "The :py:class:`skyllh.core.catalog.SourceCatalog` class is derived from the :py:class:`skyllh.core.model.SourceCollection` class, which is derived from the :py:class:`skyllh.core.model.ModelCollection` class, which is derived from the :py:class:`skyllh.core.py.NamedObjectCollection` class. Hence, it implements the iterator protocol. Thus, the user can easily interate over the sources in the catalog:"
   ]
  },
  {
   "cell_type": "code",
   "execution_count": 11,
   "id": "b31aac60",
   "metadata": {},
   "outputs": [
    {
     "name": "stdout",
     "output_type": "stream",
     "text": [
      "PointLikeSource: \"TXS 0506+056\": { ra=77.350 deg, dec=5.700 deg, classification=BLL }\n",
      "PointLikeSource: \"NGC 1068\": { ra=40.670 deg, dec=-0.010 deg, classification=SBG }\n"
     ]
    }
   ],
   "source": [
    "for source in catalog:\n",
    "    print(source)"
   ]
  },
  {
   "cell_type": "raw",
   "id": "68700b6e",
   "metadata": {
    "raw_mimetype": "text/restructuredtext"
   },
   "source": [
    "The fact that `SourceCatalog` is derived from the :py:class:`skyllh.core.py.NamedObjectCollection` class has the advantage that sources can be accessed like a dictionary through their names:"
   ]
  },
  {
   "cell_type": "code",
   "execution_count": 12,
   "id": "1e72ae7a",
   "metadata": {},
   "outputs": [
    {
     "name": "stdout",
     "output_type": "stream",
     "text": [
      "PointLikeSource: \"NGC 1068\": { ra=40.670 deg, dec=-0.010 deg, classification=SBG }\n"
     ]
    }
   ],
   "source": [
    "source = catalog['NGC 1068']\n",
    "print(source)"
   ]
  },
  {
   "cell_type": "markdown",
   "id": "596786e8",
   "metadata": {},
   "source": [
    "## Source Hypothesis Grouping"
   ]
  },
  {
   "cell_type": "raw",
   "id": "e5e1f199",
   "metadata": {
    "raw_mimetype": "text/restructuredtext"
   },
   "source": [
    "An analysis might test for several sources of the same kind, e.g. point-like sources. The SkyLLH framework can utilize the fact that calculations for same-kind sources are identical. Hence, SkyLLH provides the :py:class:`skyllh.core.source_hypo_grouping.SourceHypoGroupManager` class and the :py:class:`skyllh.core.source_hypo_grouping.SourceHypoGroup` to organize and manage groups of same-kind sources within the framework."
   ]
  },
  {
   "cell_type": "code",
   "execution_count": 13,
   "id": "13bb7c4e",
   "metadata": {},
   "outputs": [],
   "source": [
    "from skyllh.core.source_hypo_grouping import SourceHypoGroupManager\n",
    "from skyllh.core.source_hypo_grouping import SourceHypoGroup"
   ]
  },
  {
   "cell_type": "markdown",
   "id": "a969e329",
   "metadata": {},
   "source": [
    "A source hypothesis group groups several same-kind sources together for which the same flux model, detector signal yield implementation method, and signal generation method can be used. Also it stores possible relative weights for the sources of the group."
   ]
  },
  {
   "cell_type": "code",
   "execution_count": 14,
   "id": "661dc3ca",
   "metadata": {},
   "outputs": [
    {
     "name": "stdout",
     "output_type": "stream",
     "text": [
      "Help on class SourceHypoGroup in module skyllh.core.source_hypo_grouping:\n",
      "\n",
      "class SourceHypoGroup(builtins.object)\n",
      " |  SourceHypoGroup(sources, fluxmodel, detsigyield_builders, sig_gen_method=None, **kwargs)\n",
      " |  \n",
      " |  The source hypothesis group class provides a data container to describe\n",
      " |  a group of sources that share the same flux model, detector signal yield,\n",
      " |  and signal generation methods.\n",
      " |  \n",
      " |  Methods defined here:\n",
      " |  \n",
      " |  __init__(self, sources, fluxmodel, detsigyield_builders, sig_gen_method=None, **kwargs)\n",
      " |      Constructs a new source hypothesis group.\n",
      " |      \n",
      " |      Parameters\n",
      " |      ----------\n",
      " |      sources : SourceModel | sequence of SourceModel\n",
      " |          The source or sequence of sources that define the source group.\n",
      " |      fluxmodel : instance of FluxModel\n",
      " |          The FluxModel instance that applies to the list of sources of the\n",
      " |          group.\n",
      " |      detsigyield_builders : sequence of DetSigYieldBuilder instances\n",
      " |          The sequence of detector signal yield builder instances,\n",
      " |          which should be used to create the detector signal\n",
      " |          yield for the sources of this group. Each element is the\n",
      " |          detector signal yield builder for the particular dataset, if\n",
      " |          several datasets are used. If this list contains only one builder,\n",
      " |          it should be used for all datasets.\n",
      " |      sig_gen_method : SignalGenerationMethod instance | None\n",
      " |          The instance of SignalGenerationMethod that implements the signal\n",
      " |          generation for the specific detector and source hypothesis. It can\n",
      " |          be set to None, which means, no signal can be generated. Useful for\n",
      " |          data unblinding and data trial generation, where no signal is\n",
      " |          required.\n",
      " |  \n",
      " |  ----------------------------------------------------------------------\n",
      " |  Readonly properties defined here:\n",
      " |  \n",
      " |  n_sources\n",
      " |      (read-only) The number of sources within this source hypothesis\n",
      " |      group.\n",
      " |  \n",
      " |  ----------------------------------------------------------------------\n",
      " |  Data descriptors defined here:\n",
      " |  \n",
      " |  __dict__\n",
      " |      dictionary for instance variables (if defined)\n",
      " |  \n",
      " |  __weakref__\n",
      " |      list of weak references to the object (if defined)\n",
      " |  \n",
      " |  detsigyield_builder_list\n",
      " |      The list of DetSigYieldBuilder instances, which should be used to\n",
      " |      create the detector signal yield for this group of sources. Each\n",
      " |      element is the detector signal yield builder for the particular dataset,\n",
      " |      if several datasets are used. If this list contains only one builder,\n",
      " |      it should be used for all datasets.\n",
      " |  \n",
      " |  fluxmodel\n",
      " |      The FluxModel instance that applies to the list of sources of this\n",
      " |      source group.\n",
      " |  \n",
      " |  sig_gen_method\n",
      " |      The instance of SignalGenerationMethod that implements the signal\n",
      " |      generation for the specific detector and source hypothesis. It can\n",
      " |      be None, which means, no signal can be generated. Useful for\n",
      " |      data unblinding and data trial generation, where no signal is\n",
      " |      required.\n",
      " |  \n",
      " |  source_list\n",
      " |      The list of SourceModel instances for which the group is defined.\n",
      "\n"
     ]
    }
   ],
   "source": [
    "help(SourceHypoGroup)"
   ]
  },
  {
   "cell_type": "markdown",
   "id": "5e3acf94",
   "metadata": {},
   "source": [
    "After creating a `SourceHypoGroup` instance, a `SourceHypoGroupManager` can be created by passing a sequence of `SourceHypoGroup` instances to the constructor of the `SourceHypoGroupManager` class."
   ]
  },
  {
   "cell_type": "code",
   "execution_count": null,
   "id": "478622fc",
   "metadata": {},
   "outputs": [],
   "source": []
  }
 ],
 "metadata": {
  "celltoolbar": "Raw Cell Format",
  "kernelspec": {
   "display_name": "Python 3",
   "language": "python",
   "name": "python3"
  },
  "language_info": {
   "codemirror_mode": {
    "name": "ipython",
    "version": 3
   },
   "file_extension": ".py",
   "mimetype": "text/x-python",
   "name": "python",
   "nbconvert_exporter": "python",
   "pygments_lexer": "ipython3",
   "version": "3.8.10"
  }
 },
 "nbformat": 4,
 "nbformat_minor": 5
}
