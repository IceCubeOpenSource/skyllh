{
 "cells": [
  {
   "cell_type": "code",
   "execution_count": 1,
   "id": "cb9813b4",
   "metadata": {},
   "outputs": [],
   "source": [
    "%load_ext autoreload\n",
    "%autoreload 2"
   ]
  },
  {
   "cell_type": "code",
   "execution_count": 2,
   "id": "0ebe5e92",
   "metadata": {},
   "outputs": [],
   "source": [
    "import numpy as np"
   ]
  },
  {
   "cell_type": "markdown",
   "id": "51690055",
   "metadata": {},
   "source": [
    "# PDFs"
   ]
  },
  {
   "cell_type": "raw",
   "id": "b535d17f",
   "metadata": {
    "raw_mimetype": "text/restructuredtext"
   },
   "source": [
    "The most basic building block of a likelihood function is a probability density function (PDF). SkyLLH provides the  :py:mod:`skyllh.core.pdf` module, which defines base classes for PDFs. The base class of all PDFs is :py:class:`~skyllh.core.pdf.PDF`."
   ]
  },
  {
   "cell_type": "code",
   "execution_count": null,
   "id": "addc03a6",
   "metadata": {},
   "outputs": [],
   "source": []
  }
 ],
 "metadata": {
  "celltoolbar": "Raw Cell Format",
  "kernelspec": {
   "display_name": "Python 3",
   "language": "python",
   "name": "python3"
  },
  "language_info": {
   "codemirror_mode": {
    "name": "ipython",
    "version": 3
   },
   "file_extension": ".py",
   "mimetype": "text/x-python",
   "name": "python",
   "nbconvert_exporter": "python",
   "pygments_lexer": "ipython3",
   "version": "3.8.10"
  }
 },
 "nbformat": 4,
 "nbformat_minor": 5
}
