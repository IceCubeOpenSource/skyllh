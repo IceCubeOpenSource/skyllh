{
 "cells": [
  {
   "cell_type": "code",
   "execution_count": 1,
   "id": "12112806",
   "metadata": {},
   "outputs": [],
   "source": [
    "%load_ext autoreload\n",
    "%autoreload 2"
   ]
  },
  {
   "cell_type": "code",
   "execution_count": 2,
   "id": "86cd781f",
   "metadata": {},
   "outputs": [],
   "source": [
    "import numpy as np"
   ]
  },
  {
   "cell_type": "markdown",
   "id": "129e7c27",
   "metadata": {},
   "source": [
    "# PDFs"
   ]
  },
  {
   "cell_type": "raw",
   "id": "3b30fe0c",
   "metadata": {
    "raw_mimetype": "text/restructuredtext"
   },
   "source": [
    "The most basic building block of a likelihood function is a probability density function (PDF). SkyLLH provides the  :py:mod:`skyllh.core.pdf` module, which defines base classes for PDFs. The abstract base class of all PDFs is :py:class:`~skyllh.core.pdf.PDF`. It defines the abstract :py:meth:`~skyllh.core.pdf.PDF.get_pd` method. In the derived PDF class this method needs to return the probability density values for each event. In case of a signal PDF it will have to return those values also for all the sources."
   ]
  },
  {
   "cell_type": "code",
   "execution_count": null,
   "id": "b6b6c7d8",
   "metadata": {},
   "outputs": [],
   "source": []
  }
 ],
 "metadata": {
  "celltoolbar": "Raw Cell Format",
  "kernelspec": {
   "display_name": "Python 3",
   "language": "python",
   "name": "python3"
  },
  "language_info": {
   "codemirror_mode": {
    "name": "ipython",
    "version": 3
   },
   "file_extension": ".py",
   "mimetype": "text/x-python",
   "name": "python",
   "nbconvert_exporter": "python",
   "pygments_lexer": "ipython3",
   "version": "3.8.10"
  }
 },
 "nbformat": 4,
 "nbformat_minor": 5
}
