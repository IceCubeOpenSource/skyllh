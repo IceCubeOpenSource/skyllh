{
 "cells": [
  {
   "attachments": {},
   "cell_type": "markdown",
   "metadata": {},
   "source": [
    "# Loading data fields from data files"
   ]
  },
  {
   "cell_type": "raw",
   "metadata": {
    "raw_mimetype": "text/restructuredtext"
   },
   "source": [
    "An analysis will need to load a set of data fields from a data file. \n",
    "Which fields these are is defined in the ``['datafields']`` section of the\n",
    ":py:class:`~skyllh.core.Config` dictionary instance. Each field has a stage\n",
    "assigned which states at what stage the data field is required. There are\n",
    "two main stages: data preparation, and analysis. Since data fields\n",
    "can exist either in an experimental data file or a monte-carlo data file, these\n",
    "two main stages are divided into EXP and MC. Hence, the following stages \n",
    "exist::\n",
    "\n",
    "    DATAPREPARATION_EXP\n",
    "    DATAPREPARATION_MC\n",
    "    ANALYSIS_EXP\n",
    "    ANALYSIS_MC\n",
    "\n",
    "All stages are defines in the :py:class:`skyllh.core.datafields.DataFieldStages`\n",
    "class."
   ]
  },
  {
   "attachments": {},
   "cell_type": "raw",
   "metadata": {
    "raw_mimetype": "text/restructuredtext"
   },
   "source": [
    "After loading the data of a :py:class:`~skyllh.core.dataset.Dataset` instance, \n",
    "only data fields with the stage ``ANALYSIS_EXP`` and ``ANALYSIS_MC`` will be\n",
    "left to use in the analysis. Data fields marked with stage \n",
    "``DATAPREPARATION_EXP`` or ``DATAPREPARATION_MC`` will be available for the data\n",
    "preparation stage. "
   ]
  }
 ],
 "metadata": {
  "kernelspec": {
   "display_name": "Python 3",
   "language": "python",
   "name": "python3"
  },
  "language_info": {
   "codemirror_mode": {
    "name": "ipython",
    "version": 3
   },
   "file_extension": ".py",
   "mimetype": "text/x-python",
   "name": "python",
   "nbconvert_exporter": "python",
   "pygments_lexer": "ipython3",
   "version": "3.10.6"
  },
  "orig_nbformat": 4
 },
 "nbformat": 4,
 "nbformat_minor": 2
}
