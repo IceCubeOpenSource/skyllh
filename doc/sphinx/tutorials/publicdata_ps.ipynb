{
 "cells": [
  {
   "cell_type": "markdown",
   "metadata": {},
   "source": [
    "Working with the public 10-year IceCube point-source data\n",
    "=="
   ]
  },
  {
   "cell_type": "markdown",
   "metadata": {},
   "source": [
    "This tutorial shows how to use the IceCube public 10-year point-source data with SkyLLH."
   ]
  },
  {
   "cell_type": "markdown",
   "metadata": {},
   "source": [
    "**Disclaimer**\n",
    "\n",
    "    The released 10-year IceCube point-source data can reproduce the published results only within a certain\n",
    "    amount of uncertainty due to the limited instrument response function binning provided in the data release.\n",
    "    The IceCube collaboration is able to reproduce the published results using detailed direct simulation\n",
    "    data, as done for the publication."
   ]
  },
  {
   "cell_type": "code",
   "execution_count": 1,
   "metadata": {},
   "outputs": [],
   "source": [
    "%load_ext autoreload\n",
    "%autoreload 2"
   ]
  },
  {
   "cell_type": "code",
   "execution_count": 2,
   "metadata": {},
   "outputs": [],
   "source": [
    "import numpy as np\n",
    "from matplotlib import pyplot as plt"
   ]
  },
  {
   "cell_type": "markdown",
   "metadata": {},
   "source": [
    "Getting the datasets\n",
    "---"
   ]
  },
  {
   "cell_type": "markdown",
   "metadata": {},
   "source": [
    "First we import the dataset definition of the public 10-year point-source data set:"
   ]
  },
  {
   "cell_type": "code",
   "execution_count": 3,
   "metadata": {},
   "outputs": [],
   "source": [
    "from skyllh.datasets.i3.PublicData_10y_ps import create_dataset_collection"
   ]
  },
  {
   "cell_type": "markdown",
   "metadata": {},
   "source": [
    "The collection of datasets can be created using the ``create_dataset_collection`` function. This function requires the base path to the data repository. It's the path where the public point-source data is stored. The public point-source data can be downloaded from the [IceCube website](http://icecube.wisc.edu/data-releases/20210126_PS-IC40-IC86_VII.zip)."
   ]
  },
  {
   "cell_type": "code",
   "execution_count": 4,
   "metadata": {},
   "outputs": [],
   "source": [
    "dsc = create_dataset_collection(base_path='/home/mwolf/projects/publicdata_ps/')"
   ]
  },
  {
   "cell_type": "markdown",
   "metadata": {},
   "source": [
    "The ``dataset_names`` property provides a list of all the data sets defined in the data set collection of the public point-source data."
   ]
  },
  {
   "cell_type": "code",
   "execution_count": 5,
   "metadata": {},
   "outputs": [
    {
     "data": {
      "text/plain": [
       "['IC40',\n",
       " 'IC59',\n",
       " 'IC79',\n",
       " 'IC86_I',\n",
       " 'IC86_II',\n",
       " 'IC86_II-VII',\n",
       " 'IC86_III',\n",
       " 'IC86_IV',\n",
       " 'IC86_V',\n",
       " 'IC86_VI',\n",
       " 'IC86_VII']"
      ]
     },
     "execution_count": 5,
     "metadata": {},
     "output_type": "execute_result"
    }
   ],
   "source": [
    "dsc.dataset_names"
   ]
  },
  {
   "cell_type": "markdown",
   "metadata": {},
   "source": [
    "The individual data sets ``IC86_II``, ``IC86_III``, ``IC86_IV``, ``IC86_V``, ``IC86_VI``, and ``IC86_VII`` are also available as a single combined data set ``IC86_II-VII``, because these data sets share the same detector simulation and event selection. Hence, we can get a list of data sets via the ``get_datasets`` method of the ``dsc`` instance:"
   ]
  },
  {
   "cell_type": "code",
   "execution_count": 6,
   "metadata": {},
   "outputs": [],
   "source": [
    "datasets = dsc.get_datasets(['IC40', 'IC59', 'IC79', 'IC86_I', 'IC86_II-VII'])"
   ]
  },
  {
   "cell_type": "markdown",
   "metadata": {},
   "source": [
    "Getting the analysis\n",
    "---"
   ]
  },
  {
   "cell_type": "markdown",
   "metadata": {},
   "source": [
    "The analysis used for the published PRL results is referred in SkyLLH as \"*traditional point-source analysis*\" and is pre-defined:"
   ]
  },
  {
   "cell_type": "code",
   "execution_count": 7,
   "metadata": {},
   "outputs": [],
   "source": [
    "from skyllh.analyses.i3.publicdata_ps.time_integrated_ps import create_analysis"
   ]
  },
  {
   "cell_type": "code",
   "execution_count": 8,
   "metadata": {},
   "outputs": [
    {
     "name": "stdout",
     "output_type": "stream",
     "text": [
      "Help on function create_analysis in module skyllh.analyses.i3.publicdata_ps.time_integrated_ps:\n",
      "\n",
      "create_analysis(datasets, source, refplflux_Phi0=1, refplflux_E0=1000.0, refplflux_gamma=2.0, ns_seed=100.0, ns_min=0.0, ns_max=1000.0, gamma_seed=3.0, gamma_min=1.0, gamma_max=5.0, kde_smoothing=False, minimizer_impl='LBFGS', cut_sindec=None, spl_smooth=None, cap_ratio=False, compress_data=False, keep_data_fields=None, evt_sel_delta_angle_deg=10, tl=None, ppbar=None, logger_name=None)\n",
      "    Creates the Analysis instance for this particular analysis.\n",
      "    \n",
      "    Parameters:\n",
      "    -----------\n",
      "    datasets : list of Dataset instances\n",
      "        The list of Dataset instances, which should be used in the\n",
      "        analysis.\n",
      "    source : PointLikeSource instance\n",
      "        The PointLikeSource instance defining the point source position.\n",
      "    refplflux_Phi0 : float\n",
      "        The flux normalization to use for the reference power law flux model.\n",
      "    refplflux_E0 : float\n",
      "        The reference energy to use for the reference power law flux model.\n",
      "    refplflux_gamma : float\n",
      "        The spectral index to use for the reference power law flux model.\n",
      "    ns_seed : float\n",
      "        Value to seed the minimizer with for the ns fit.\n",
      "    ns_min : float\n",
      "        Lower bound for ns fit.\n",
      "    ns_max : float\n",
      "        Upper bound for ns fit.\n",
      "    gamma_seed : float | None\n",
      "        Value to seed the minimizer with for the gamma fit. If set to None,\n",
      "        the refplflux_gamma value will be set as gamma_seed.\n",
      "    gamma_min : float\n",
      "        Lower bound for gamma fit.\n",
      "    gamma_max : float\n",
      "        Upper bound for gamma fit.\n",
      "    kde_smoothing : bool\n",
      "        Apply a KDE-based smoothing to the data-driven background pdf.\n",
      "        Default: False.\n",
      "    minimizer_impl : str | \"LBFGS\"\n",
      "        Minimizer implementation to be used. Supported options are \"LBFGS\"\n",
      "        (L-BFG-S minimizer used from the :mod:`scipy.optimize` module), or\n",
      "        \"minuit\" (Minuit minimizer used by the :mod:`iminuit` module).\n",
      "        Default: \"LBFGS\".\n",
      "    cut_sindec : list of float | None\n",
      "        sin(dec) values at which the energy cut in the southern sky should\n",
      "        start. If None, np.sin(np.radians([-2, 0, -3, 0, 0])) is used.\n",
      "    spl_smooth : list of float\n",
      "        Smoothing parameters for the 1D spline for the energy cut. If None,\n",
      "        [0., 0.005, 0.05, 0.2, 0.3] is used.\n",
      "    cap_ratio : bool\n",
      "        If set to True, the energy PDF ratio will be capped to a finite value\n",
      "        where no background energy PDF information is available. This will\n",
      "        ensure that an energy PDF ratio is available for high energies where\n",
      "        no background is available from the experimental data.\n",
      "        If kde_smoothing is set to True, cap_ratio should be set to False!\n",
      "        Default is False.\n",
      "    compress_data : bool\n",
      "        Flag if the data should get converted from float64 into float32.\n",
      "    keep_data_fields : list of str | None\n",
      "        List of additional data field names that should get kept when loading\n",
      "        the data.\n",
      "    evt_sel_delta_angle_deg : float\n",
      "        The delta angle in degrees for the event selection optimization methods.\n",
      "    tl : TimeLord instance | None\n",
      "        The TimeLord instance to use to time the creation of the analysis.\n",
      "    ppbar : ProgressBar instance | None\n",
      "        The instance of ProgressBar for the optional parent progress bar.\n",
      "    logger_name : str | None\n",
      "        The name of the logger to be used. If set to ``None``, ``__name__`` will\n",
      "        be used.\n",
      "    \n",
      "    Returns\n",
      "    -------\n",
      "    ana : instance of SingleSourceMultiDatasetLLHRatioAnalysis\n",
      "        The Analysis instance for this analysis.\n",
      "\n"
     ]
    }
   ],
   "source": [
    "help(create_analysis)"
   ]
  },
  {
   "cell_type": "markdown",
   "metadata": {},
   "source": [
    "As source we use TXS 0506+056."
   ]
  },
  {
   "cell_type": "code",
   "execution_count": 9,
   "metadata": {},
   "outputs": [],
   "source": [
    "from skyllh.physics.source_model import PointLikeSource"
   ]
  },
  {
   "cell_type": "code",
   "execution_count": 10,
   "metadata": {},
   "outputs": [],
   "source": [
    "source = PointLikeSource(ra=np.deg2rad(77.35), dec=np.deg2rad(5.7))"
   ]
  },
  {
   "cell_type": "code",
   "execution_count": 11,
   "metadata": {},
   "outputs": [
    {
     "name": "stderr",
     "output_type": "stream",
     "text": [
      "100%|██████████| 43/43 [00:15<00:00,  2.74it/s]\n",
      "100%|██████████| 43/43 [00:14<00:00,  3.04it/s]\n",
      "100%|██████████| 43/43 [00:14<00:00,  3.07it/s]\n",
      "100%|██████████| 43/43 [00:14<00:00,  3.05it/s]\n",
      "100%|██████████| 43/43 [00:15<00:00,  2.72it/s]\n",
      "100%|██████████| 5/5 [01:50<00:00, 22.17s/it]\n",
      "100%|██████████| 220/220 [00:00<00:00, 2432.85it/s]\n"
     ]
    }
   ],
   "source": [
    "ana = create_analysis(datasets=datasets, source=source)"
   ]
  },
  {
   "cell_type": "markdown",
   "metadata": {},
   "source": [
    "Initializing a trial\n",
    "---"
   ]
  },
  {
   "cell_type": "markdown",
   "metadata": {},
   "source": [
    "After the `Analysis` instance was created trials can be run. To do so the analysis needs to be initialized with some trial data. For instance we could initialize the analysis with the experimental data to \"unblind\" the analysis afterwards. Technically the `TrialDataManager` of each log-likelihood ratio function, i.e. dataset, is initialized with data.\n",
    "\n",
    "The `Analysis` class provides the method `initialize_trial` to initialize a trial with data. It takes a list of `DataFieldRecordArray` instances holding the events. If we want to initialize a trial with the experimental data, we can get that list from the `Analysis` instance itself:"
   ]
  },
  {
   "cell_type": "code",
   "execution_count": 12,
   "metadata": {},
   "outputs": [],
   "source": [
    "events_list = [ data.exp for data in ana.data_list ]\n",
    "ana.initialize_trial(events_list)"
   ]
  },
  {
   "cell_type": "markdown",
   "metadata": {},
   "source": [
    "Maximizing the log-likelihood ratio function\n",
    "---"
   ]
  },
  {
   "cell_type": "markdown",
   "metadata": {},
   "source": [
    "After initializing a trial, we can maximize the LLH ratio function using the `maximize_llhratio` method of the `Analysis` class. This method requires a ``RandomStateService`` instance in case the minimizer does not succeed and a new set of initial values for the fit parameters need to get generated. The method returns a 4-element tuple. The first element is the set of fit parameters used in the maximization. The second element is the value of the LLH ration function at its maximum. The third element is the array of the fit parameter values at the maximum, and the forth element is the status dictionary of the minimizer."
   ]
  },
  {
   "cell_type": "code",
   "execution_count": 13,
   "metadata": {},
   "outputs": [],
   "source": [
    "from skyllh.core.random import RandomStateService\n",
    "rss = RandomStateService(seed=1)"
   ]
  },
  {
   "cell_type": "code",
   "execution_count": 14,
   "metadata": {},
   "outputs": [],
   "source": [
    "(log_lambda_max, fitparam_values, status) = ana.llhratio.maximize(rss)"
   ]
  },
  {
   "cell_type": "code",
   "execution_count": 15,
   "metadata": {},
   "outputs": [
    {
     "name": "stdout",
     "output_type": "stream",
     "text": [
      "log_lambda_max = 6.572529560024996\n",
      "fitparam_values = [14.58017285  2.16856498]\n",
      "status = {'grad': array([ 2.22650668e-06, -7.55261158e-05]), 'task': b'CONVERGENCE: REL_REDUCTION_OF_F_<=_FACTR*EPSMCH', 'funcalls': 27, 'nit': 22, 'warnflag': 0, 'skyllh_minimizer_n_reps': 0, 'n_llhratio_func_calls': 27}\n"
     ]
    }
   ],
   "source": [
    "print(f'log_lambda_max = {log_lambda_max}')\n",
    "print(f'fitparam_values = {fitparam_values}')\n",
    "print(f'status = {status}')"
   ]
  },
  {
   "cell_type": "markdown",
   "metadata": {},
   "source": [
    "Calculating the test-statistic\n",
    "---"
   ]
  },
  {
   "cell_type": "markdown",
   "metadata": {},
   "source": [
    "Using the maximum of the LLH ratio function and the fit parameter values at the maximum we can calculate the test-statistic using the `calculate_test_statistic` method of the `Analysis` class:"
   ]
  },
  {
   "cell_type": "code",
   "execution_count": 16,
   "metadata": {},
   "outputs": [
    {
     "name": "stdout",
     "output_type": "stream",
     "text": [
      "TS = 13.145\n"
     ]
    }
   ],
   "source": [
    "TS = ana.calculate_test_statistic(log_lambda_max, fitparam_values)\n",
    "print(f'TS = {TS:.3f}')"
   ]
  },
  {
   "cell_type": "markdown",
   "metadata": {},
   "source": [
    "## Unblinding the data"
   ]
  },
  {
   "cell_type": "markdown",
   "metadata": {},
   "source": [
    "After creating the analysis instance we can unblind the data for the choosen source. Hence, we initialize the analysis with a trial of the experimental data, maximize the log-likelihood ratio function for all given experimental data events, and calculate the test-statistic value. The analysis instance has the method ``unblind`` that can be used for that. This method requires a ``RandomStateService`` instance in case the minimizer does not succeed and a new set of initial values for the fit parameters need to get generated."
   ]
  },
  {
   "cell_type": "code",
   "execution_count": 17,
   "metadata": {},
   "outputs": [],
   "source": [
    "from skyllh.core.random import RandomStateService\n",
    "rss = RandomStateService(seed=1)"
   ]
  },
  {
   "cell_type": "code",
   "execution_count": 18,
   "metadata": {},
   "outputs": [
    {
     "name": "stdout",
     "output_type": "stream",
     "text": [
      "Help on method unblind in module skyllh.core.analysis:\n",
      "\n",
      "unblind(rss, tl=None) method of skyllh.core.analysis.SingleSourceMultiDatasetLLHRatioAnalysis instance\n",
      "    Evaluates the unscrambled data, i.e. unblinds the data.\n",
      "    \n",
      "    Parameters\n",
      "    ----------\n",
      "    rss : instance of RandomStateService\n",
      "        The instance of RandomStateService that should be used draw random\n",
      "        numbers from.\n",
      "    tl : instance of TimeLord | None\n",
      "        The optional instance of TimeLord that should be used to time the\n",
      "        maximization of the LLH ratio function.\n",
      "    \n",
      "    Returns\n",
      "    -------\n",
      "    TS : float\n",
      "        The test-statistic value.\n",
      "    global_params_dict : dict\n",
      "        The dictionary holding the global parameter names and their\n",
      "        best fit values. It includes fixed and floating parameters.\n",
      "    status : dict\n",
      "        The status dictionary with information about the performed\n",
      "        minimization process of the negative of the log-likelihood ratio\n",
      "        function.\n",
      "\n"
     ]
    }
   ],
   "source": [
    "help(ana.unblind)"
   ]
  },
  {
   "cell_type": "markdown",
   "metadata": {},
   "source": [
    "The ``unblind`` method returns the test-statistic value, the best-fit fit parameter values, and a status dictionary of the minimizer."
   ]
  },
  {
   "cell_type": "code",
   "execution_count": 19,
   "metadata": {},
   "outputs": [],
   "source": [
    "(ts, x, status) = ana.unblind(rss=rss)"
   ]
  },
  {
   "cell_type": "code",
   "execution_count": 20,
   "metadata": {},
   "outputs": [
    {
     "name": "stdout",
     "output_type": "stream",
     "text": [
      "TS = 13.145\n",
      "ns = 14.58\n",
      "gamma = 2.17\n"
     ]
    }
   ],
   "source": [
    "print(f'TS = {ts:.3f}')\n",
    "print(f'ns = {x[\"ns\"]:.2f}')\n",
    "print(f'gamma = {x[\"gamma\"]:.2f}')"
   ]
  },
  {
   "cell_type": "markdown",
   "metadata": {},
   "source": [
    "## Calculating the corresponding flux normalization "
   ]
  },
  {
   "cell_type": "markdown",
   "metadata": {},
   "source": [
    "By default the analysis is created with a flux normalization of 1 GeV$^{-1}$s$^{-1}$cm$^{-2}$sr$^{-1}$ (see `refplflux_Phi0` argument of the `create_analysis` method). The analysis instance has the method `calculate_fluxmodel_scaling_factor` that calculates the scaling factor the reference flux normalization has to be multiplied with to represent a given analysis result, i.e. $n_{\\text{s}}$ and $\\gamma$ value. This function takes the detected mean $n_{\\text{s}}$ value as first argument and the list of source parameter values as second argument:"
   ]
  },
  {
   "cell_type": "code",
   "execution_count": 21,
   "metadata": {},
   "outputs": [
    {
     "name": "stdout",
     "output_type": "stream",
     "text": [
      "Flux scaling factor = 1.422e-15\n"
     ]
    }
   ],
   "source": [
    "scaling_factor = ana.calculate_fluxmodel_scaling_factor(x['ns'], [x['ns'], x['gamma']])\n",
    "print(f'Flux scaling factor = {scaling_factor:.3e}')"
   ]
  },
  {
   "cell_type": "markdown",
   "metadata": {},
   "source": [
    "Hence, our result corresponds to a power-law flux of:"
   ]
  },
  {
   "cell_type": "code",
   "execution_count": 22,
   "metadata": {},
   "outputs": [
    {
     "name": "stdout",
     "output_type": "stream",
     "text": [
      "1.422e-15 (E/1000 GeV)^{-2.17} 1/(GeV s cm^2 sr)\n"
     ]
    }
   ],
   "source": [
    "print(f'{scaling_factor:.3e}'' (E/1000 GeV)^{-'f'{x[\"gamma\"]:.2f}'+'} 1/(GeV s cm^2 sr)')"
   ]
  },
  {
   "cell_type": "markdown",
   "metadata": {},
   "source": [
    "Evaluating the log-likelihood ratio function\n",
    "---"
   ]
  },
  {
   "cell_type": "markdown",
   "metadata": {},
   "source": [
    "Sometimes it is useful to be able to evaluate the log-likelihood ratio function, e.g. for creating a likelihood contour plot. Because SkyLLH's structure is based on the mathematical structure of the likelihood function, the `Analysis` instance has the property `llhratio` which is the class instance of the used log-likelihood ratio function. This instance has the method `evaluate`. The method takes an array of the fit parameter values as argument at which the LLH ratio function will be evaluated. It returns the value of the LLH ratio function at the given point and its gradients w.r.t. the fit parameters.\n",
    "\n",
    "In our case this is the number of signal events, $n_{\\mathrm{s}}$ and the spectral index $\\gamma$. If we evaluate the LLH ratio function at the maximum, the gradients should be close to zero."
   ]
  },
  {
   "cell_type": "code",
   "execution_count": 23,
   "metadata": {},
   "outputs": [
    {
     "name": "stdout",
     "output_type": "stream",
     "text": [
      "Help on method evaluate in module skyllh.core.llhratio:\n",
      "\n",
      "evaluate(fitparam_values, src_params_recarray=None, tl=None) method of skyllh.core.llhratio.MultiDatasetTCLLHRatio instance\n",
      "    Evaluates the composite log-likelihood-ratio function and returns its\n",
      "    value and global fit parameter gradients.\n",
      "    \n",
      "    Parameters\n",
      "    ----------\n",
      "    fitparam_values : instance of numpy ndarray\n",
      "        The (N_fitparams,)-shaped numpy 1D ndarray holding the current\n",
      "        values of the global fit parameters.\n",
      "    src_params_recarray : instance of numpy record ndarray | None\n",
      "        The numpy record ndarray of length N_sources holding the parameter\n",
      "        names and values of all sources.\n",
      "        See the documentation of the\n",
      "        :meth:`skyllh.core.parameters.ParameterModelMapper.create_src_params_recarray`\n",
      "        method for more information about this array.\n",
      "        It case it is ``None``, it will be created automatically from the\n",
      "        ``fitparam_values`` argument using the\n",
      "        :class:`~skyllh.core.parameters.ParameterModelMapper` instance.\n",
      "    tl : instance of TimeLord | None\n",
      "        The optional instance of TimeLord that should be used for timing\n",
      "        measurements.\n",
      "    \n",
      "    Returns\n",
      "    -------\n",
      "    log_lambda : float\n",
      "        The calculated log-lambda value of the composite\n",
      "        log-likelihood-ratio function.\n",
      "    grads : instance of numpy ndarray\n",
      "        The (N_fitparams,)-shaped 1D ndarray holding the gradient value of\n",
      "        the composite log-likelihood-ratio function for each global fit\n",
      "        parameter.\n",
      "\n"
     ]
    }
   ],
   "source": [
    "help(ana.llhratio.evaluate)"
   ]
  },
  {
   "cell_type": "code",
   "execution_count": 24,
   "metadata": {},
   "outputs": [
    {
     "name": "stdout",
     "output_type": "stream",
     "text": [
      "llhratio_value = 6.573\n",
      "grad_ns = 0.001\n",
      "grad_gamma = -0.027\n"
     ]
    }
   ],
   "source": [
    "(llhratio_value, (grad_ns, grad_gamma)) = ana.llhratio.evaluate([14.58, 2.17])\n",
    "print(f'llhratio_value = {llhratio_value:.3f}')\n",
    "print(f'grad_ns = {grad_ns:.3f}')\n",
    "print(f'grad_gamma = {grad_gamma:.3f}')"
   ]
  },
  {
   "cell_type": "markdown",
   "metadata": {},
   "source": [
    "Using the `evaluate` method of the `LLHRatio` class we can scan the log-likelihood ratio space and create a contour plot showing the best fit and the 95% quantile."
   ]
  },
  {
   "cell_type": "code",
   "execution_count": 25,
   "metadata": {},
   "outputs": [],
   "source": [
    "(ns_min, ns_max, ns_step) = (0, 80, 0.5)\n",
    "(gamma_min, gamma_max, gamma_step) = (1.5, 4.0, 0.1)\n",
    "\n",
    "ns_edges = np.linspace(ns_min, ns_max, int((ns_max-ns_min)/ns_step)+1)\n",
    "ns_vals = 0.5*(ns_edges[1:] + ns_edges[:-1])\n",
    "\n",
    "gamma_edges = np.linspace(gamma_min, gamma_max, int((gamma_max-gamma_min)/gamma_step+1))\n",
    "gamma_vals = 0.5*(gamma_edges[1:] + gamma_edges[:-1])\n",
    "\n",
    "log_lambda = np.empty((len(ns_vals), len(gamma_vals)), dtype=np.double)\n",
    "for (ns_i, ns) in enumerate(ns_vals):\n",
    "    for (gamma_i, gamma) in enumerate(gamma_vals):\n",
    "        log_lambda[ns_i, gamma_i] = ana.llhratio.evaluate([ns, gamma])[0]\n",
    "\n",
    "# Determine the best fit ns and gamma values from the scan.\n",
    "index_max = np.argmax(log_lambda)\n",
    "ns_i_max = int(index_max / len(gamma_vals))\n",
    "gamma_i_max = index_max % len(gamma_vals)\n",
    "ns_best = ns_vals[ns_i_max]\n",
    "gamma_best = gamma_vals[gamma_i_max]"
   ]
  },
  {
   "cell_type": "code",
   "execution_count": 26,
   "metadata": {},
   "outputs": [
    {
     "data": {
      "text/plain": [
       "(1.5, 4.0)"
      ]
     },
     "execution_count": 26,
     "metadata": {},
     "output_type": "execute_result"
    },
    {
     "data": {
      "image/png": "[encoded data removed]",
      "text/plain": [
       "<Figure size 576x432 with 2 Axes>"
      ]
     },
     "metadata": {
      "needs_background": "light"
     },
     "output_type": "display_data"
    }
   ],
   "source": [
    "from matplotlib.colors import LogNorm\n",
    "plt.figure(figsize=(8,6))\n",
    "plt.pcolormesh(gamma_edges, ns_edges, log_lambda, norm=LogNorm())\n",
    "cbar = plt.colorbar()\n",
    "cbar.set_label(r'$\\log(\\Lambda)$')\n",
    "plt.contour(gamma_vals, ns_vals, log_lambda, [np.quantile(log_lambda, 0.95)])\n",
    "plt.plot(gamma_best, ns_best, marker='x', color='black', ms=10)\n",
    "plt.xlabel(r'$\\gamma$')\n",
    "plt.ylabel(r'$n_{\\mathrm{s}}$')\n",
    "plt.ylim(ns_min, ns_max)\n",
    "plt.xlim(gamma_min, gamma_max)"
   ]
  },
  {
   "cell_type": "markdown",
   "metadata": {},
   "source": [
    "Calculating the significance (local p-value)\n",
    "---"
   ]
  },
  {
   "cell_type": "markdown",
   "metadata": {},
   "source": [
    "The significance of the source, i.e. the local p-value, can be calculated by generating the test-statistic distribution of background-only data trials, i.e. for zero injected signal events. SkyLLH provides the helper function ``create_trial_data_file`` to do that:"
   ]
  },
  {
   "cell_type": "code",
   "execution_count": 27,
   "metadata": {},
   "outputs": [],
   "source": [
    "from skyllh.core.utils.analysis import create_trial_data_file"
   ]
  },
  {
   "cell_type": "code",
   "execution_count": 28,
   "metadata": {},
   "outputs": [
    {
     "name": "stdout",
     "output_type": "stream",
     "text": [
      "Help on function create_trial_data_file in module skyllh.core.utils.analysis:\n",
      "\n",
      "create_trial_data_file(ana, rss, n_trials, mean_n_sig=0, mean_n_sig_null=0, mean_n_bkg_list=None, bkg_kwargs=None, sig_kwargs=None, pathfilename=None, ncpu=None, ppbar=None, tl=None)\n",
      "    Creates and fills a trial data file with `n_trials` generated trials for\n",
      "    each mean number of injected signal events from `ns_min` up to `ns_max` for\n",
      "    a given analysis.\n",
      "    \n",
      "    Parameters\n",
      "    ----------\n",
      "    ana : instance of Analysis\n",
      "        The Analysis instance to use for the trial generation.\n",
      "    rss : RandomStateService\n",
      "        The RandomStateService instance to use for generating random\n",
      "        numbers.\n",
      "    n_trials : int\n",
      "        The number of trials to perform for each hypothesis test.\n",
      "    mean_n_sig : ndarray of float | float | 2- or 3-element sequence of float\n",
      "        The array of mean number of injected signal events (MNOISEs) for which\n",
      "        to generate trials. If this argument is not a ndarray, an array of\n",
      "        MNOISEs is generated based on this argument.\n",
      "        If a single float is given, only this given MNOISEs are injected.\n",
      "        If a 2-element sequence of floats is given, it specifies the range of\n",
      "        MNOISEs with a step size of one.\n",
      "        If a 3-element sequence of floats is given, it specifies the range plus\n",
      "        the step size of the MNOISEs.\n",
      "    mean_n_sig_null : ndarray of float | float | 2- or 3-element sequence of\n",
      "                      float\n",
      "        The array of the fixed mean number of signal events (FMNOSEs) for the\n",
      "        null-hypothesis for which to generate trials. If this argument is not a\n",
      "        ndarray, an array of FMNOSEs is generated based on this argument.\n",
      "        If a single float is given, only this given FMNOSEs are used.\n",
      "        If a 2-element sequence of floats is given, it specifies the range of\n",
      "        FMNOSEs with a step size of one.\n",
      "        If a 3-element sequence of floats is given, it specifies the range plus\n",
      "        the step size of the FMNOSEs.\n",
      "    mean_n_bkg_list : list of float | None\n",
      "        The mean number of background events that should be generated for\n",
      "        each dataset. This parameter is passed to the ``do_trials`` method of\n",
      "        the ``Analysis`` class. If set to None (the default), the background\n",
      "        generation method needs to obtain this number itself.\n",
      "    bkg_kwargs : dict | None\n",
      "        Additional keyword arguments for the `generate_events` method of the\n",
      "        background generation method class. An usual keyword argument is\n",
      "        `poisson`.\n",
      "    sig_kwargs : dict | None\n",
      "        Additional keyword arguments for the `generate_signal_events` method\n",
      "        of the `SignalGenerator` class. An usual keyword argument is\n",
      "        `poisson`.\n",
      "    pathfilename : string | None\n",
      "        Trial data file path including the filename.\n",
      "        If set to None generated trials won't be saved.\n",
      "    ncpu : int | None\n",
      "        The number of CPUs to use.\n",
      "    ppbar : instance of ProgressBar | None\n",
      "        The optional instance of the parent progress bar.\n",
      "    tl: instance of TimeLord | None\n",
      "        The instance of TimeLord that should be used to measure individual\n",
      "        tasks.\n",
      "    \n",
      "    Returns\n",
      "    -------\n",
      "    seed : int\n",
      "        The seed used to generate the trials.\n",
      "    mean_n_sig : 1d ndarray\n",
      "        The array holding the mean number of signal events used to generate the\n",
      "        trials.\n",
      "    mean_n_sig_null : 1d ndarray\n",
      "        The array holding the fixed mean number of signal events for the\n",
      "        null-hypothesis used to generate the trials.\n",
      "    trial_data : structured numpy ndarray\n",
      "        The generated trial data.\n",
      "\n"
     ]
    }
   ],
   "source": [
    "help(create_trial_data_file)"
   ]
  },
  {
   "cell_type": "markdown",
   "metadata": {},
   "source": [
    "At first we will generate 10k trials and look at the test-statistic distribution. We will time the trial generation using the ``TimeLord`` class."
   ]
  },
  {
   "cell_type": "code",
   "execution_count": 29,
   "metadata": {},
   "outputs": [],
   "source": [
    "from skyllh.core.timing import TimeLord\n",
    "tl = TimeLord()"
   ]
  },
  {
   "cell_type": "code",
   "execution_count": 30,
   "metadata": {},
   "outputs": [
    {
     "name": "stderr",
     "output_type": "stream",
     "text": [
      "100%|██████████| 10001/10001 [22:34<00:00,  7.38it/s]\n"
     ]
    },
    {
     "name": "stdout",
     "output_type": "stream",
     "text": [
      "TimeLord: Executed tasks:\n",
      "[Generating background events for data set 0.]   0.002 sec/iter (10000)\n",
      "[Generating background events for data set 1.]   0.004 sec/iter (10000)\n",
      "[Generating background events for data set 2.]   0.004 sec/iter (10000)\n",
      "[Generating background events for data set 3.]   0.007 sec/iter (10000)\n",
      "[Generating background events for data set 4.]   0.032 sec/iter (10000)\n",
      "[Generating pseudo data.                     ]   0.046 sec/iter (10000)\n",
      "[Initializing trial.                         ]   0.117 sec/iter (10000)\n",
      "[Get sig probability densities and grads.    ] 2.4e-04 sec/iter (1992860)\n",
      "[Evaluating bkg log-spline.                  ] 3.1e-04 sec/iter (1992860)\n",
      "[Get bkg probability densities and grads.    ] 3.7e-04 sec/iter (1992860)\n",
      "[Calculate PDF ratios.                       ] 1.2e-04 sec/iter (1992860)\n",
      "[Calc pdfratio value Ri                      ]   0.001 sec/iter (996430)\n",
      "[Calc logLamds and grads                     ] 4.1e-04 sec/iter (996430)\n",
      "[Evaluate llh-ratio function.                ]   0.007 sec/iter (199286)\n",
      "[Minimize -llhratio function.                ]   0.147 sec/iter (10000)\n",
      "[Maximizing LLH ratio function.              ]   0.147 sec/iter (10000)\n",
      "[Calculating test statistic.                 ] 5.8e-05 sec/iter (10000)\n"
     ]
    }
   ],
   "source": [
    "rss = RandomStateService(seed=1)\n",
    "(_, _, _, trials) = create_trial_data_file(\n",
    "    ana=ana,\n",
    "    rss=rss,\n",
    "    n_trials=1e4,\n",
    "    mean_n_sig=0,\n",
    "    pathfilename='/home/mwolf/projects/publicdata_ps/txs_bkg_trails.npy',\n",
    "    ncpu=8,\n",
    "    tl=tl)\n",
    "print(tl)"
   ]
  },
  {
   "cell_type": "markdown",
   "metadata": {},
   "source": [
    "After generating the background trials, we can histogram the test-statistic values and plot the TS distribution."
   ]
  },
  {
   "cell_type": "code",
   "execution_count": 31,
   "metadata": {},
   "outputs": [
    {
     "data": {
      "image/png": "[encoded data removed]",
      "text/plain": [
       "<Figure size 432x288 with 1 Axes>"
      ]
     },
     "metadata": {
      "needs_background": "light"
     },
     "output_type": "display_data"
    }
   ],
   "source": [
    "(h, be) = np.histogram(trials['ts'], bins=np.arange(0, np.max(trials['ts'])+0.1, 0.1))\n",
    "plt.plot(0.5*(be[:-1]+be[1:]), h, drawstyle='steps-mid', label='background')\n",
    "plt.vlines(ts, 1, np.max(h), label=f'TS(TXS 0506+056)={ts:.3f}')\n",
    "plt.yscale('log')\n",
    "plt.xlabel('TS')\n",
    "plt.ylabel('#trials per bin')\n",
    "plt.legend()\n",
    "pass"
   ]
  },
  {
   "cell_type": "markdown",
   "metadata": {},
   "source": [
    "We can see that the TS value of the unblinded data for TXS is rather large and 10k trials are not enough to calculate a reliable estimate for the p-value. Hence, we will generate a few more trials. SkyLLH provides also a helper function to extend the trial data file we just created. It is called ``extend_trial_data_file``: "
   ]
  },
  {
   "cell_type": "code",
   "execution_count": 32,
   "metadata": {},
   "outputs": [],
   "source": [
    "from skyllh.core.utils.analysis import extend_trial_data_file"
   ]
  },
  {
   "cell_type": "code",
   "execution_count": 33,
   "metadata": {},
   "outputs": [
    {
     "name": "stdout",
     "output_type": "stream",
     "text": [
      "Help on function extend_trial_data_file in module skyllh.core.utils.analysis:\n",
      "\n",
      "extend_trial_data_file(ana, rss, n_trials, trial_data, mean_n_sig=0, mean_n_sig_null=0, mean_n_bkg_list=None, bkg_kwargs=None, sig_kwargs=None, pathfilename=None, **kwargs)\n",
      "    Appends to the trial data file `n_trials` generated trials for each\n",
      "    mean number of injected signal events up to `ns_max` for a given analysis.\n",
      "    \n",
      "    Parameters\n",
      "    ----------\n",
      "    ana : Analysis\n",
      "        The Analysis instance to use for sensitivity estimation.\n",
      "    rss : RandomStateService\n",
      "        The RandomStateService instance to use for generating random\n",
      "        numbers.\n",
      "    n_trials : int\n",
      "        The number of trials the trial data file needs to be extended by.\n",
      "    trial_data : structured numpy ndarray\n",
      "        The structured numpy ndarray holding the trials.\n",
      "    mean_n_sig : ndarray of float | float | 2- or 3-element sequence of float\n",
      "        The array of mean number of injected signal events (MNOISEs) for which\n",
      "        to generate trials. If this argument is not a ndarray, an array of\n",
      "        MNOISEs is generated based on this argument.\n",
      "        If a single float is given, only this given MNOISEs are injected.\n",
      "        If a 2-element sequence of floats is given, it specifies the range of\n",
      "        MNOISEs with a step size of one.\n",
      "        If a 3-element sequence of floats is given, it specifies the range plus\n",
      "        the step size of the MNOISEs.\n",
      "    mean_n_sig_null : ndarray of float | float | 2- or 3-element sequence of\n",
      "                      float\n",
      "        The array of the fixed mean number of signal events (FMNOSEs) for the\n",
      "        null-hypothesis for which to generate trials. If this argument is not a\n",
      "        ndarray, an array of FMNOSEs is generated based on this argument.\n",
      "        If a single float is given, only this given FMNOSEs are used.\n",
      "        If a 2-element sequence of floats is given, it specifies the range of\n",
      "        FMNOSEs with a step size of one.\n",
      "        If a 3-element sequence of floats is given, it specifies the range plus\n",
      "        the step size of the FMNOSEs.\n",
      "    bkg_kwargs : dict | None\n",
      "        Additional keyword arguments for the `generate_events` method of the\n",
      "        background generation method class. An usual keyword argument is\n",
      "        `poisson`.\n",
      "    sig_kwargs : dict | None\n",
      "        Additional keyword arguments for the `generate_signal_events` method\n",
      "        of the `SignalGenerator` class. An usual keyword argument is\n",
      "        `poisson`.\n",
      "    pathfilename : string | None\n",
      "        Trial data file path including the filename.\n",
      "    \n",
      "    Additional keyword arguments\n",
      "    ----------------------------\n",
      "    Additional keyword arguments are passed-on to the ``create_trial_data_file``\n",
      "    function.\n",
      "    \n",
      "    Returns\n",
      "    -------\n",
      "    trial_data :\n",
      "        Trial data file extended by the required number of trials for each\n",
      "        mean number of injected signal events..\n",
      "\n"
     ]
    }
   ],
   "source": [
    "help(extend_trial_data_file)"
   ]
  },
  {
   "cell_type": "code",
   "execution_count": 34,
   "metadata": {},
   "outputs": [
    {
     "name": "stderr",
     "output_type": "stream",
     "text": [
      "100%|██████████| 40001/40001 [1:33:15<00:00,  7.15it/s]\n"
     ]
    }
   ],
   "source": [
    "tl = TimeLord()\n",
    "rss = RandomStateService(seed=2)\n",
    "trials = extend_trial_data_file(\n",
    "    ana=ana,\n",
    "    rss=rss,\n",
    "    n_trials=4e4,\n",
    "    trial_data=trials,\n",
    "    pathfilename='/home/mwolf/projects/publicdata_ps/txs_bkg_trails.npy',\n",
    "    ncpu=8,\n",
    "    tl=tl)"
   ]
  },
  {
   "cell_type": "code",
   "execution_count": 35,
   "metadata": {},
   "outputs": [
    {
     "name": "stdout",
     "output_type": "stream",
     "text": [
      "TimeLord: Executed tasks:\n",
      "[Generating background events for data set 0.]   0.003 sec/iter (40000)\n",
      "[Generating background events for data set 1.]   0.005 sec/iter (40000)\n",
      "[Generating background events for data set 2.]   0.004 sec/iter (40000)\n",
      "[Generating background events for data set 3.]   0.008 sec/iter (40000)\n",
      "[Generating background events for data set 4.]   0.029 sec/iter (40000)\n",
      "[Generating pseudo data.                     ]   0.045 sec/iter (40000)\n",
      "[Initializing trial.                         ]   0.126 sec/iter (40000)\n",
      "[Get sig probability densities and grads.    ] 2.6e-04 sec/iter (7959160)\n",
      "[Evaluating bkg log-spline.                  ] 3.3e-04 sec/iter (7959160)\n",
      "[Get bkg probability densities and grads.    ] 4.0e-04 sec/iter (7959160)\n",
      "[Calculate PDF ratios.                       ] 1.3e-04 sec/iter (7959160)\n",
      "[Calc pdfratio value Ri                      ]   0.002 sec/iter (3979580)\n",
      "[Calc logLamds and grads                     ] 4.4e-04 sec/iter (3979580)\n",
      "[Evaluate llh-ratio function.                ]   0.008 sec/iter (795916)\n",
      "[Minimize -llhratio function.                ]   0.166 sec/iter (40000)\n",
      "[Maximizing LLH ratio function.              ]   0.166 sec/iter (40000)\n",
      "[Calculating test statistic.                 ] 6.1e-05 sec/iter (40000)\n"
     ]
    }
   ],
   "source": [
    "print(tl)"
   ]
  },
  {
   "cell_type": "markdown",
   "metadata": {},
   "source": [
    "The local p-value is defined as the fraction of background trials with TS value greater than the unblinded TS value of the source. "
   ]
  },
  {
   "cell_type": "code",
   "execution_count": 36,
   "metadata": {},
   "outputs": [
    {
     "name": "stdout",
     "output_type": "stream",
     "text": [
      "-log10(p_local) = 2.89\n"
     ]
    }
   ],
   "source": [
    "minus_log10_pval = -np.log10(len(trials[trials['ts'] > ts]) / len(trials))\n",
    "print(f'-log10(p_local) = {minus_log10_pval:.2f}')"
   ]
  },
  {
   "cell_type": "code",
   "execution_count": 37,
   "metadata": {},
   "outputs": [
    {
     "data": {
      "image/png": "[encoded data removed]",
      "text/plain": [
       "<Figure size 432x288 with 1 Axes>"
      ]
     },
     "metadata": {
      "needs_background": "light"
     },
     "output_type": "display_data"
    }
   ],
   "source": [
    "(h, be) = np.histogram(trials['ts'], bins=np.arange(0, np.max(trials['ts'])+0.1, 0.1))\n",
    "plt.plot(0.5*(be[:-1]+be[1:]), h, drawstyle='steps-mid', label='background')\n",
    "plt.vlines(ts, 1, np.max(h), label=f'TS(TXS 0506+056)={ts:.3f}')\n",
    "plt.yscale('log')\n",
    "plt.xlabel('TS')\n",
    "plt.ylabel('#trials per bin')\n",
    "plt.legend()\n",
    "pass"
   ]
  }
 ],
 "metadata": {
  "kernelspec": {
   "display_name": "Python 3",
   "language": "python",
   "name": "python3"
  },
  "language_info": {
   "codemirror_mode": {
    "name": "ipython",
    "version": 3
   },
   "file_extension": ".py",
   "mimetype": "text/x-python",
   "name": "python",
   "nbconvert_exporter": "python",
   "pygments_lexer": "ipython3",
   "version": "3.8.10"
  }
 },
 "nbformat": 4,
 "nbformat_minor": 4
}
