{
 "cells": [
  {
   "attachments": {},
   "cell_type": "markdown",
   "metadata": {},
   "source": [
    "This tutorial shows how to use the public point-source data for a time dependent point-source analysis. The time fit is performed by the expectation maximization (EM) algorithm.   "
   ]
  },
  {
   "cell_type": "code",
   "execution_count": 1,
   "metadata": {},
   "outputs": [],
   "source": [
    "from matplotlib import pyplot as plt\n",
    "import numpy as np\n",
    "\n",
    "from skyllh.analyses.i3.publicdata_ps.time_dependent_ps import (\n",
    "    create_analysis,\n",
    "    do_trials_with_em,\n",
    "    unblind_single_flare,\n",
    "    TXS_0506_PLUS056_ALERT_TIME,\n",
    "    TXS_0506_PLUS056_SOURCE,\n",
    ")\n",
    "from skyllh.core.random import RandomStateService\n",
    "from skyllh.datasets.i3.PublicData_10y_ps import create_dataset_collection\n",
    "from skyllh.physics.source_model import PointLikeSource"
   ]
  },
  {
   "cell_type": "code",
   "execution_count": 2,
   "metadata": {},
   "outputs": [],
   "source": [
    "dsc = create_dataset_collection(\n",
    "    base_path=\"/home/mwolf/projects/publicdata_ps/\")\n",
    "datasets = dsc.get_datasets([\"IC86_II-VII\"])"
   ]
  },
  {
   "attachments": {},
   "cell_type": "markdown",
   "metadata": {},
   "source": [
    "We create the ``Anaylsis`` instance for the TXS 0506+056 source."
   ]
  },
  {
   "cell_type": "code",
   "execution_count": 3,
   "metadata": {},
   "outputs": [
    {
     "name": "stderr",
     "output_type": "stream",
     "text": [
      "100%|██████████| 43/43 [00:05<00:00,  8.24it/s]\n",
      "100%|██████████| 1/1 [00:11<00:00, 11.47s/it]\n",
      "100%|██████████| 44/44 [00:00<00:00, 6738.58it/s]\n"
     ]
    }
   ],
   "source": [
    "ana = create_analysis(\n",
    "    datasets=datasets, \n",
    "    source=TXS_0506_PLUS056_SOURCE, \n",
    "    refplflux_gamma=2.0, \n",
    "    gauss={\"mu\":57000, \"sigma\": 65})"
   ]
  },
  {
   "cell_type": "code",
   "execution_count": 4,
   "metadata": {},
   "outputs": [
    {
     "name": "stderr",
     "output_type": "stream",
     "text": [
      "100%|██████████| 51/51 [00:06<00:00,  8.03it/s]\n"
     ]
    }
   ],
   "source": [
    "em_results = unblind_single_flare(\n",
    "    ana=ana, \n",
    "    remove_time=TXS_0506_PLUS056_ALERT_TIME)"
   ]
  },
  {
   "cell_type": "code",
   "execution_count": 5,
   "metadata": {},
   "outputs": [
    {
     "name": "stdout",
     "output_type": "stream",
     "text": [
      "[(1.  , 56973.23708581,  31.3563052 , 1.79515876e+00)\n",
      " (1.08, 56973.54484189,  31.14357769, 1.90863994e+00)\n",
      " (1.16, 56973.83307677,  30.87665456, 2.03884445e+00)\n",
      " (1.24, 56974.08415341,  30.55533666, 2.18552345e+00)\n",
      " (1.32, 56974.28746397,  30.18832367, 2.34723234e+00)\n",
      " (1.4 , 56974.43460415,  29.79011038, 2.52276533e+00)\n",
      " (1.48, 56974.52115046,  29.38462682, 2.70882968e+00)\n",
      " (1.56, 56974.54623867,  28.99947969, 2.90061350e+00)\n",
      " (1.64, 56974.51341733,  28.66214757, 3.09018079e+00)\n",
      " (1.72, 56974.43221152,  28.37640449, 3.27745255e+00)\n",
      " (1.8 , 56974.30631703,  28.15416286, 3.45507477e+00)\n",
      " (1.88, 56974.14586177,  27.99657819, 3.61748184e+00)\n",
      " (1.96, 56973.9490699 ,  27.88953708, 3.76387819e+00)\n",
      " (2.04, 56973.72989754,  27.82971047, 3.88935168e+00)\n",
      " (2.12, 56973.48898241,  27.81453748, 3.98970729e+00)\n",
      " (2.2 , 56973.22996936,  27.83708787, 4.06122538e+00)\n",
      " (2.28, 56972.95267253,  27.89163812, 4.10080447e+00)\n",
      " (2.36, 56972.6530535 ,  27.97159094, 4.10619138e+00)\n",
      " (2.44, 56972.33490857,  28.07388169, 4.07401370e+00)\n",
      " (2.52, 56971.98626879,  28.19531446, 3.99811734e+00)\n",
      " (2.6 , 56971.59643072,  28.32376317, 3.87783258e+00)\n",
      " (2.68, 56971.13846959,  28.44332682, 3.71196343e+00)\n",
      " (2.76, 56970.57697211,  28.53784333, 3.49569723e+00)\n",
      " (2.84, 56969.8455705 ,  28.58122615, 3.22199838e+00)\n",
      " (2.92, 56968.80981547,  28.52481749, 2.88136927e+00)\n",
      " (3.  , 56939.04629586,   1.49874497, 2.42051524e+00)\n",
      " (3.08, 56939.02211115,   1.49309042, 2.43632117e+00)\n",
      " (3.16, 56940.61325656,   1.        , 1.04189724e+00)\n",
      " (3.24, 56940.54727125,   1.        , 1.04880090e+00)\n",
      " (3.32, 56938.93702576,   1.47001932, 2.43204330e+00)\n",
      " (3.4 , 56938.89759301,   1.45758664, 2.40999389e+00)\n",
      " (3.48, 56993.73401007,  60.28996634, 1.98025688e-19)\n",
      " (3.56, 57224.13670193, 159.26717602, 4.76621313e-20)\n",
      " (3.64, 57342.00785879,   9.46261474, 1.21781487e-17)\n",
      " (3.72, 57340.31211916,   1.16081221, 2.44840075e-16)\n",
      " (3.8 , 57340.18636663,   1.        , 1.30610878e-15)\n",
      " (3.88, 57340.10855365,   1.        , 2.96667859e-15)\n",
      " (3.96, 57340.09165663,   1.        , 7.23568425e-15)\n",
      " (4.04, 57340.13818755,   1.        , 9.11746346e-01)\n",
      " (4.12, 57340.13940668,   1.        , 9.13210834e-01)\n",
      " (4.2 , 57340.14050166,   1.        , 9.14508659e-01)\n",
      " (4.28, 57340.1414847 ,   1.        , 9.15661304e-01)\n",
      " (4.36, 57340.1423671 ,   1.        , 9.16687109e-01)\n",
      " (4.44, 57340.14316135,   1.        , 9.17603915e-01)\n",
      " (4.52, 57340.14387162,   1.        , 9.18420012e-01)\n",
      " (4.6 , 57340.14450906,   1.        , 9.19149740e-01)\n",
      " (4.68, 57340.14508147,   1.        , 9.19803327e-01)\n",
      " (4.76, 57340.1455958 ,   1.        , 9.20389616e-01)\n",
      " (4.84, 57340.14605951,   1.        , 9.20917471e-01)\n",
      " (4.92, 57340.14648106,   1.        , 9.21385550e-01)\n",
      " (5.  , 57340.14689871,   1.        , 9.21774298e-01)]\n"
     ]
    }
   ],
   "source": [
    "print(em_results)"
   ]
  },
  {
   "attachments": {},
   "cell_type": "markdown",
   "metadata": {},
   "source": [
    "Run backgroud trials, i.e. ``mean_n_sig=0``"
   ]
  },
  {
   "cell_type": "code",
   "execution_count": 6,
   "metadata": {},
   "outputs": [
    {
     "name": "stderr",
     "output_type": "stream",
     "text": [
      "100%|██████████| 100/100 [02:47<00:00,  1.68s/it]\n"
     ]
    }
   ],
   "source": [
    "bg_trials = do_trials_with_em(ana=ana, n=100, mean_n_sig=0, ncpu=4)"
   ]
  },
  {
   "cell_type": "code",
   "execution_count": 7,
   "metadata": {},
   "outputs": [
    {
     "name": "stdout",
     "output_type": "stream",
     "text": [
      "100\n",
      "[(         1, 0., 0, 2., -1., -1., -1., -1., 11.15813697,  3.08516523, 2.13976066e+00, 3.0996397 , 3. , 56378.37706606,   1.        )\n",
      " (         1, 0., 0, 2., -1., -1., -1., -1., 11.37820838,  1.02740037, 9.98021852e-01, 1.73712781, 1. , 56110.96761041,   1.        )\n",
      " (         1, 0., 0, 2., -1., -1., -1., -1.,  8.04298757,  2.09795402, 1.47503999e+00, 2.20404137, 2.2, 57286.08544898,   1.        )\n",
      " (         1, 0., 0, 2., -1., -1., -1., -1.,  7.89382178,  5.39751363, 2.53593145e+00, 3.4739513 , 3.2, 56980.47240156,   8.86697521)\n",
      " (         1, 0., 0, 2., -1., -1., -1., -1., 10.77920289,  3.2591752 , 2.44600975e+00, 3.44799596, 3. , 57705.10936507,   1.        )\n",
      " (         1, 0., 0, 2., -1., -1., -1., -1., 11.43994341,  2.91956714, 2.56090462e+00, 5.        , 4.8, 56464.24814268,   1.        )\n",
      " (         1, 0., 0, 2., -1., -1., -1., -1., 11.86397205,  2.97330672, 2.39437488e+00, 3.20701603, 3.8, 57504.15479244,   2.29572225)\n",
      " (         1, 0., 0, 2., -1., -1., -1., -1., 11.32737454,  2.52366372, 2.11802094e+00, 2.38361186, 2.4, 57517.34920527,   1.        )\n",
      " (         1, 0., 0, 2., -1., -1., -1., -1.,  9.35274271,  2.52865741, 1.55845338e-17, 2.0242925 , 1. , 56867.7372588 ,   1.        )\n",
      " (         1, 0., 0, 2., -1., -1., -1., -1.,  8.00163187,  1.24875556, 1.11765482e+00, 2.37749097, 2.8, 58018.42071033,   1.        )\n",
      " (         1, 0., 0, 2., -1., -1., -1., -1., 12.36449457,  1.83473649, 1.77242485e+00, 2.39580584, 3.2, 56383.07365299,   1.        )\n",
      " (         1, 0., 0, 2., -1., -1., -1., -1.,  8.35593604,  2.70861554, 1.81276913e+00, 2.52391978, 2.4, 57161.99860937,   1.        )\n",
      " (         1, 0., 0, 2., -1., -1., -1., -1.,  6.7852481 ,  1.06009495, 1.01221568e+00, 1.72817735, 2.2, 56471.67199882,   1.        )\n",
      " (         1, 0., 0, 2., -1., -1., -1., -1., 13.9061432 ,  4.50221199, 3.57630380e+00, 5.        , 5. , 57401.24973011,   1.        )\n",
      " (         1, 0., 0, 2., -1., -1., -1., -1.,  7.21664464,  1.4554956 , 1.22263583e+00, 1.94999986, 2. , 56649.77667592,   1.        )\n",
      " (         1, 0., 0, 2., -1., -1., -1., -1., 16.38768698,  4.15535985, 3.42252883e+00, 5.        , 5. , 57206.87606518,   1.        )\n",
      " (         1, 0., 0, 2., -1., -1., -1., -1.,  7.04020415,  1.32320494, 1.16529445e+00, 2.48692952, 2.8, 56751.3472239 ,   1.        )\n",
      " (         1, 0., 0, 2., -1., -1., -1., -1.,  8.7214562 ,  1.01916797, 1.00960593e+00, 1.68359598, 2. , 56918.81604561,   1.        )\n",
      " (         1, 0., 0, 2., -1., -1., -1., -1.,  7.47677975,  2.52334779, 1.93395056e+00, 2.58918091, 2.6, 57387.31754368,   1.        )\n",
      " (         1, 0., 0, 2., -1., -1., -1., -1.,  7.04706706,  2.05802812, 1.37218058e+00, 2.3470679 , 2. , 57352.99339282,   1.        )\n",
      " (         1, 0., 0, 2., -1., -1., -1., -1., 14.67144459,  1.02266927, 1.00241019e+00, 1.6498908 , 1. , 56879.16779765,   1.        )\n",
      " (         1, 0., 0, 2., -1., -1., -1., -1., 10.1558592 ,  1.72802291, 1.36031137e+00, 2.30616492, 2.4, 58053.36470152,   1.        )\n",
      " (         1, 0., 0, 2., -1., -1., -1., -1.,  8.46700119,  1.54520587, 1.18084103e+00, 5.        , 5. , 56353.25792354,   1.        )\n",
      " (         1, 0., 0, 2., -1., -1., -1., -1., 11.34411581,  4.84243525, 2.98666191e+00, 5.        , 4.6, 57350.57015652,   7.42641711)\n",
      " (         1, 0., 0, 2., -1., -1., -1., -1., 23.86023189, 12.11735504, 6.76459609e+00, 4.11707659, 5. , 57836.42516154,   5.08213933)\n",
      " (1791095845, 0., 0, 2., -1., -1., -1., -1.,  7.38257156,  1.11451401, 1.05837031e+00, 2.19307094, 2.8, 57039.98367363,   1.        )\n",
      " (1791095845, 0., 0, 2., -1., -1., -1., -1.,  8.07659018,  2.15981112, 1.33123126e+00, 2.50425411, 2. , 57384.35599817,   1.        )\n",
      " (1791095845, 0., 0, 2., -1., -1., -1., -1., 15.30355172,  3.86577459, 3.41641876e+00, 2.54649444, 2.6, 57874.58267014,   1.09660424)\n",
      " (1791095845, 0., 0, 2., -1., -1., -1., -1., 10.35400563,  1.70637779, 1.29109727e+00, 2.35374197, 2. , 58184.16805763,   1.        )\n",
      " (1791095845, 0., 0, 2., -1., -1., -1., -1.,  5.79548459,  1.12088857, 1.01342335e+00, 5.        , 5. , 57325.3784345 ,   1.        )\n",
      " (1791095845, 0., 0, 2., -1., -1., -1., -1., 11.13244959,  3.17285032, 2.46004016e+00, 2.42414412, 2. , 57043.01357146,   2.1476528 )\n",
      " (1791095845, 0., 0, 2., -1., -1., -1., -1., 14.00843616,  1.04133165, 1.02768155e+00, 1.6413857 , 2. , 57821.81662369,   1.        )\n",
      " (1791095845, 0., 0, 2., -1., -1., -1., -1.,  7.25872847,  1.17675365, 1.09923240e+00, 2.08943863, 2.6, 57641.16120443,   1.        )\n",
      " (1791095845, 0., 0, 2., -1., -1., -1., -1.,  0.89808972,  5.60011645, 4.82542822e-19, 4.26661381, 3. , 56617.29161129, 128.3312487 )\n",
      " (1791095845, 0., 0, 2., -1., -1., -1., -1.,  4.93971154,  1.09520221, 9.54409634e-01, 4.5053402 , 2.6, 57560.36864908,   1.        )\n",
      " (1791095845, 0., 0, 2., -1., -1., -1., -1.,  7.67014353,  2.80995593, 2.08655620e+00, 5.        , 3.4, 57816.17241879,   3.58978466)\n",
      " (1791095845, 0., 0, 2., -1., -1., -1., -1., 17.08158939,  1.12399983, 1.02077186e+00, 1.46390857, 1. , 57772.60953881,   1.        )\n",
      " (1791095845, 0., 0, 2., -1., -1., -1., -1.,  8.22266554,  2.30661382, 3.88603580e-15, 3.60234808, 2.6, 57400.10115876,   1.33805332)\n",
      " (1791095845, 0., 0, 2., -1., -1., -1., -1.,  8.91551262,  2.71919269, 2.07706588e+00, 3.23364631, 5. , 56595.46430627,   1.        )\n",
      " (1791095845, 0., 0, 2., -1., -1., -1., -1.,  7.85389853,  1.1313733 , 1.09710382e+00, 2.18195746, 2.8, 57334.56841133,   1.        )\n",
      " (1791095845, 0., 0, 2., -1., -1., -1., -1., 10.65457624,  2.06165644, 1.65717707e+00, 5.        , 3.2, 57110.90609789,   1.        )\n",
      " (1791095845, 0., 0, 2., -1., -1., -1., -1., 19.4752423 ,  3.11589189, 2.89827122e+00, 2.38248178, 3.2, 56599.28456369,   1.        )\n",
      " (1791095845, 0., 0, 2., -1., -1., -1., -1.,  7.74035533,  1.0504645 , 1.01850894e+00, 1.46928803, 1.6, 56766.75350062,   1.        )\n",
      " (1791095845, 0., 0, 2., -1., -1., -1., -1.,  5.00803894,  1.98938246, 1.21042008e+00, 1.80829783, 1.6, 56889.82021181,   1.        )\n",
      " (1791095845, 0., 0, 2., -1., -1., -1., -1.,  7.62834842,  2.12954947, 1.83419690e+00, 3.25      , 3.4, 57137.22105931,   2.08159613)\n",
      " (1791095845, 0., 0, 2., -1., -1., -1., -1., 13.08124214,  1.00424156, 1.00010300e+00, 1.72725342, 2.8, 56085.05768335,   1.        )\n",
      " (1791095845, 0., 0, 2., -1., -1., -1., -1.,  7.50613659,  1.79871623, 1.54088906e+00, 2.5784757 , 2.6, 56986.84508711,   1.        )\n",
      " (1791095845, 0., 0, 2., -1., -1., -1., -1., 13.76064914,  3.33767765, 2.76180155e+00, 2.2113854 , 2.6, 57718.43478926,   1.        )\n",
      " (1791095845, 0., 0, 2., -1., -1., -1., -1.,  6.73057785,  1.13859803, 1.06153160e+00, 2.17122806, 3. , 57916.43382101,   1.        )\n",
      " (1791095845, 0., 0, 2., -1., -1., -1., -1.,  8.07615194,  1.68429801, 1.22257350e+00, 2.52428831, 2.2, 56487.16547934,   1.        )\n",
      " (4282876139, 0., 0, 2., -1., -1., -1., -1., 15.63229001,  1.85365235, 1.81933437e+00, 1.96895464, 3. , 56615.04326321,   1.        )\n",
      " (4282876139, 0., 0, 2., -1., -1., -1., -1.,  7.75488117,  1.76990782, 1.27506680e+00, 2.17197577, 2. , 56670.22003099,   1.        )\n",
      " (4282876139, 0., 0, 2., -1., -1., -1., -1.,  9.8170403 ,  2.16905631, 1.79144597e+00, 1.71691027, 2.2, 57304.44445684,   1.        )\n",
      " (4282876139, 0., 0, 2., -1., -1., -1., -1., 10.56160636,  3.02847256, 2.46168928e+00, 4.8477202 , 3.2, 57372.81465041,   1.        )\n",
      " (4282876139, 0., 0, 2., -1., -1., -1., -1., 11.76569896,  3.10621804, 2.55808496e+00, 5.        , 5. , 56858.76071961,   1.68898096)\n",
      " (4282876139, 0., 0, 2., -1., -1., -1., -1., 13.10028438,  3.52392975, 2.54542584e+00, 5.        , 5. , 57162.90288551,   1.        )\n",
      " (4282876139, 0., 0, 2., -1., -1., -1., -1.,  9.77178899,  2.02578279, 1.19506843e+00, 2.84964195, 1.6, 57780.1160126 ,   1.        )\n",
      " (4282876139, 0., 0, 2., -1., -1., -1., -1., 11.72369227,  1.92338527, 1.41349976e+00, 2.34999132, 2. , 56327.91669302,   1.        )\n",
      " (4282876139, 0., 0, 2., -1., -1., -1., -1., 16.22935757,  7.3187287 , 4.83251896e+00, 5.        , 5. , 57543.12191716,   6.18277584)\n",
      " (4282876139, 0., 0, 2., -1., -1., -1., -1.,  3.39789042,  2.45479373, 4.02210516e-15, 2.13935397, 2.8, 57965.20709458,  27.07201427)\n",
      " (4282876139, 0., 0, 2., -1., -1., -1., -1., 10.33165143,  2.4527451 , 1.88885408e+00, 5.        , 3.4, 57457.09764175,   1.        )\n",
      " (4282876139, 0., 0, 2., -1., -1., -1., -1.,  8.35704632,  2.62826559, 2.09189997e+00, 5.        , 5. , 57397.45299316,   1.0208853 )\n",
      " (4282876139, 0., 0, 2., -1., -1., -1., -1., 13.56813707,  1.12372038, 1.08393685e+00, 1.73710876, 2.6, 56850.79079979,   1.        )\n",
      " (4282876139, 0., 0, 2., -1., -1., -1., -1., 10.99200062,  2.79389435, 2.42865653e+00, 2.6710733 , 2.8, 57092.4876642 ,   1.        )\n",
      " (4282876139, 0., 0, 2., -1., -1., -1., -1.,  9.36887281,  1.80032844, 1.52390787e+00, 2.05281124, 2.2, 57029.24008704,   1.        )\n",
      " (4282876139, 0., 0, 2., -1., -1., -1., -1., 15.35771153,  2.97009389, 2.70912797e+00, 5.        , 2.8, 57917.02357587,   1.        )\n",
      " (4282876139, 0., 0, 2., -1., -1., -1., -1.,  2.33305293,  5.01111923, 1.69076415e-18, 4.91499305, 3.2, 57666.02351359,  38.31282033)\n",
      " (4282876139, 0., 0, 2., -1., -1., -1., -1., 13.99660904, 10.274647  , 3.06817833e-16, 2.94495606, 4.8, 56136.13580486,  19.59423479)\n",
      " (4282876139, 0., 0, 2., -1., -1., -1., -1.,  9.77364524,  1.06684029, 1.11802620e+00, 1.70624856, 2.8, 57264.27095554,   1.        )\n",
      " (4282876139, 0., 0, 2., -1., -1., -1., -1.,  7.27906473,  1.92134694, 1.43136319e+00, 4.30850054, 3.4, 57730.27905796,   1.        )\n",
      " (4282876139, 0., 0, 2., -1., -1., -1., -1.,  6.6383159 ,  1.84277776, 1.49050446e+00, 2.66747075, 3.6, 57507.59117085,   1.        )\n",
      " (4282876139, 0., 0, 2., -1., -1., -1., -1.,  7.63413674,  6.56751967, 5.70599415e-13, 3.2907437 , 3.4, 57904.15337938,   9.25454744)\n",
      " (4282876139, 0., 0, 2., -1., -1., -1., -1.,  6.6626289 ,  1.00312586, 9.78836254e-01, 1.5689921 , 1.6, 57595.24606356,   1.        )\n",
      " (4282876139, 0., 0, 2., -1., -1., -1., -1.,  6.77359104,  1.19798193, 1.09923277e+00, 1.96486501, 2.4, 56966.57151125,   1.        )\n",
      " (4282876139, 0., 0, 2., -1., -1., -1., -1.,  7.15066914,  1.00317465, 9.83574238e-01, 1.4500004 , 1.4, 57392.03595158,   1.        )\n",
      " (3093770124, 0., 0, 2., -1., -1., -1., -1., 14.92597857,  2.36112946, 2.12216853e+00, 5.        , 5. , 57117.96905213,   1.        )\n",
      " (3093770124, 0., 0, 2., -1., -1., -1., -1.,  8.07498371,  1.00666787, 9.78930773e-01, 1.74140523, 2.4, 56538.43031703,   1.        )\n",
      " (3093770124, 0., 0, 2., -1., -1., -1., -1.,  5.64397444,  1.02884296, 9.64431348e-01, 2.1612934 , 2. , 57279.31942327,   1.        )\n",
      " (3093770124, 0., 0, 2., -1., -1., -1., -1., 13.13133689,  1.01392689, 1.02133172e+00, 1.59007667, 2.2, 57714.62217835,   1.        )\n",
      " (3093770124, 0., 0, 2., -1., -1., -1., -1.,  0.45811669,  4.11194351, 2.28963090e-18, 4.47665532, 4. , 56886.36349642, 146.56210549)\n",
      " (3093770124, 0., 0, 2., -1., -1., -1., -1., 15.61684656,  3.20644125, 2.64986895e+00, 2.27866217, 3.2, 57015.05790481,   2.0562159 )\n",
      " (3093770124, 0., 0, 2., -1., -1., -1., -1.,  9.17550772,  2.34004674, 1.65150133e+00, 2.95561469, 3.4, 56964.59090423,   1.        )\n",
      " (3093770124, 0., 0, 2., -1., -1., -1., -1.,  6.39045714,  1.05274305, 1.00741043e+00, 5.        , 3.2, 57226.23647074,   1.        )\n",
      " (3093770124, 0., 0, 2., -1., -1., -1., -1., 18.48764969,  1.00881768, 1.01076773e+00, 1.39001303, 1.8, 57765.65364119,   1.        )\n",
      " (3093770124, 0., 0, 2., -1., -1., -1., -1.,  8.55374963,  5.67283698, 2.53016607e-18, 4.17972626, 4. , 56712.8990611 ,  11.85112885)\n",
      " (3093770124, 0., 0, 2., -1., -1., -1., -1., 11.66047406,  2.74062167, 3.00656580e-33, 2.33924984, 1. , 56905.77771361,   1.        )\n",
      " (3093770124, 0., 0, 2., -1., -1., -1., -1., 10.80361508,  1.99639863, 1.75758410e+00, 2.28795767, 2.2, 56176.02618749,   1.        )\n",
      " (3093770124, 0., 0, 2., -1., -1., -1., -1.,  8.55399201,  1.85905477, 1.68401392e+00, 5.        , 3.8, 56791.3277136 ,   1.        )\n",
      " (3093770124, 0., 0, 2., -1., -1., -1., -1.,  5.96526237,  0.99593688, 9.54564337e-01, 2.42515741, 3. , 57567.04939067,   1.        )\n",
      " (3093770124, 0., 0, 2., -1., -1., -1., -1., 11.665049  ,  1.08137916, 1.07846673e+00, 1.84705185, 2.2, 57235.50522932,   1.        )\n",
      " (3093770124, 0., 0, 2., -1., -1., -1., -1., 12.81513727,  2.62213318, 2.22689743e+00, 2.27086746, 2.8, 56495.52882006,   3.23625978)\n",
      " (3093770124, 0., 0, 2., -1., -1., -1., -1.,  9.3258507 ,  2.26324442, 1.64365362e+00, 5.        , 4.6, 57023.06135657,   1.        )\n",
      " (3093770124, 0., 0, 2., -1., -1., -1., -1., 14.40128855,  6.42999701, 3.40965108e+00, 2.43424554, 2.6, 58087.01329985,  11.47517923)\n",
      " (3093770124, 0., 0, 2., -1., -1., -1., -1.,  9.94172735,  3.40399487, 2.76212267e+00, 5.        , 4.8, 57398.3510171 ,   1.44162506)\n",
      " (3093770124, 0., 0, 2., -1., -1., -1., -1.,  9.26722184,  2.07277978, 1.63806011e+00, 5.        , 5. , 56873.87008846,   1.        )\n",
      " (3093770124, 0., 0, 2., -1., -1., -1., -1.,  8.49993258,  1.5366139 , 1.55954940e+00, 2.0477353 , 2.6, 57157.69687353,   1.        )\n",
      " (3093770124, 0., 0, 2., -1., -1., -1., -1.,  7.74905771,  1.00716381, 9.19697362e-01, 2.26107157, 1. , 56352.33936728,   1.        )\n",
      " (3093770124, 0., 0, 2., -1., -1., -1., -1.,  8.24729525,  2.95499716, 2.30569624e+00, 5.        , 5. , 56895.97645689,   1.10042002)\n",
      " (3093770124, 0., 0, 2., -1., -1., -1., -1.,  8.73497327,  1.91985192, 1.69065050e+00, 5.        , 5. , 57269.51032299,   1.        )\n",
      " (3093770124, 0., 0, 2., -1., -1., -1., -1.,  7.7656266 ,  1.70098476, 1.34588532e+00, 5.        , 5. , 57501.12018228,   1.        )]\n"
     ]
    }
   ],
   "source": [
    "print(bg_trials)"
   ]
  },
  {
   "cell_type": "code",
   "execution_count": 8,
   "metadata": {},
   "outputs": [
    {
     "data": {
      "text/plain": [
       "(array([ 3.,  3., 17., 34., 20., 11.,  8.,  2.,  1.,  1.]),\n",
       " array([ 0.45811669,  2.79832821,  5.13853973,  7.47875125,  9.81896277,\n",
       "        12.15917429, 14.49938581, 16.83959733, 19.17980885, 21.52002037,\n",
       "        23.86023189]),\n",
       " <BarContainer object of 10 artists>)"
      ]
     },
     "execution_count": 8,
     "metadata": {},
     "output_type": "execute_result"
    },
    {
     "data": {
      "image/png": "[encoded data removed]",
      "text/plain": [
       "<Figure size 640x480 with 1 Axes>"
      ]
     },
     "metadata": {},
     "output_type": "display_data"
    }
   ],
   "source": [
    "plt.hist(bg_trials[\"ts\"])"
   ]
  },
  {
   "cell_type": "code",
   "execution_count": null,
   "metadata": {},
   "outputs": [],
   "source": []
  }
 ],
 "metadata": {
  "kernelspec": {
   "display_name": ".venv",
   "language": "python",
   "name": "python3"
  },
  "language_info": {
   "codemirror_mode": {
    "name": "ipython",
    "version": 3
   },
   "file_extension": ".py",
   "mimetype": "text/x-python",
   "name": "python",
   "nbconvert_exporter": "python",
   "pygments_lexer": "ipython3",
   "version": "3.10.6"
  },
  "orig_nbformat": 4
 },
 "nbformat": 4,
 "nbformat_minor": 2
}
