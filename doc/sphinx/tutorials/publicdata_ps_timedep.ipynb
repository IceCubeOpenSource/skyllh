{
 "cells": [
  {
   "attachments": {},
   "cell_type": "markdown",
   "metadata": {},
   "source": [
    "This tutorial shows how to use the public point-source data for a time dependent point-source analysis. The time fit is performed by the expectation maximization (EM) algorithm.   "
   ]
  },
  {
   "cell_type": "code",
   "execution_count": 1,
   "metadata": {},
   "outputs": [],
   "source": [
    "from matplotlib import pyplot as plt\n",
    "import numpy as np\n",
    "\n",
    "from skyllh.analyses.i3.publicdata_ps.time_dependent_ps import (\n",
    "    create_analysis,\n",
    "    run_gamma_scan_single_flare,\n",
    "    run_trials_with_em,\n",
    ")\n",
    "from skyllh.core.random import RandomStateService\n",
    "from skyllh.datasets.i3.PublicData_10y_ps import create_dataset_collection\n",
    "from skyllh.physics.source_model import PointLikeSource"
   ]
  },
  {
   "cell_type": "code",
   "execution_count": 2,
   "metadata": {},
   "outputs": [],
   "source": [
    "dsc = create_dataset_collection(\n",
    "    base_path=\"/home/mwolf/projects/publicdata_ps/\")\n",
    "datasets = dsc.get_datasets([\"IC86_II-VII\"])"
   ]
  },
  {
   "cell_type": "code",
   "execution_count": 3,
   "metadata": {},
   "outputs": [],
   "source": [
    "source = PointLikeSource(\n",
    "    ra=np.deg2rad(77.3581851), \n",
    "    dec=np.deg2rad(5.69314828))"
   ]
  },
  {
   "cell_type": "code",
   "execution_count": 4,
   "metadata": {},
   "outputs": [
    {
     "name": "stderr",
     "output_type": "stream",
     "text": [
      "100%|██████████| 43/43 [00:04<00:00,  8.71it/s]\n",
      "100%|██████████| 1/1 [00:11<00:00, 11.91s/it]\n",
      "100%|██████████| 44/44 [00:00<00:00, 7068.96it/s]\n"
     ]
    }
   ],
   "source": [
    "ana = create_analysis(\n",
    "    datasets=datasets, \n",
    "    source=source, \n",
    "    refplflux_gamma=2.0, \n",
    "    gauss={\"mu\":57000, \"sigma\": 65})"
   ]
  },
  {
   "cell_type": "code",
   "execution_count": 5,
   "metadata": {},
   "outputs": [],
   "source": [
    "def run_em_on_unblinded_flare(ana, remove_time=None):\n",
    "    \"\"\"Run the EM on unblinded data. Similar to the original analysis, \n",
    "    remove the alert event.\n",
    "\n",
    "    Parameters\n",
    "    ----------\n",
    "    remove_time : float\n",
    "        Time of the event that should be removed.\n",
    "        In the case of the TXS analysis: remove_time=58018.8711856.\n",
    "\n",
    "    Returns\n",
    "    -------\n",
    "    results : instance of numpy structured ndarray\n",
    "        The numpy structured ndarray with fields\n",
    "\n",
    "        gamma : float\n",
    "            The spectral index value.\n",
    "        mu : float\n",
    "            The determined mean value of the gauss curve.\n",
    "        sigma : float\n",
    "            The determoned standard deviation of the gauss curve.\n",
    "        ns_em : float\n",
    "            The scaling factor of the flare.\n",
    "    \"\"\"\n",
    "    rss = RandomStateService(seed=1)\n",
    "    ana.unblind(rss=rss)\n",
    "    \n",
    "    results = run_gamma_scan_single_flare(\n",
    "        ana=ana, \n",
    "        remove_time=remove_time)\n",
    "    \n",
    "    return results\n"
   ]
  },
  {
   "cell_type": "code",
   "execution_count": 6,
   "metadata": {},
   "outputs": [],
   "source": [
    "em_results = run_em_on_unblinded_flare(ana=ana, remove_time=58018.8711856)"
   ]
  },
  {
   "cell_type": "code",
   "execution_count": 7,
   "metadata": {},
   "outputs": [
    {
     "name": "stdout",
     "output_type": "stream",
     "text": [
      "[(1.  , 56973.23708581,  31.3563052 , 1.79515876e+00)\n",
      " (1.08, 56973.54484189,  31.14357769, 1.90863994e+00)\n",
      " (1.16, 56973.83307677,  30.87665456, 2.03884445e+00)\n",
      " (1.24, 56974.08415341,  30.55533666, 2.18552345e+00)\n",
      " (1.32, 56974.28746397,  30.18832367, 2.34723234e+00)\n",
      " (1.4 , 56974.43460415,  29.79011038, 2.52276533e+00)\n",
      " (1.48, 56974.52115046,  29.38462682, 2.70882968e+00)\n",
      " (1.56, 56974.54623867,  28.99947969, 2.90061350e+00)\n",
      " (1.64, 56974.51341733,  28.66214757, 3.09018079e+00)\n",
      " (1.72, 56974.43221152,  28.37640449, 3.27745255e+00)\n",
      " (1.8 , 56974.30631703,  28.15416286, 3.45507477e+00)\n",
      " (1.88, 56974.14586177,  27.99657819, 3.61748184e+00)\n",
      " (1.96, 56973.9490699 ,  27.88953708, 3.76387819e+00)\n",
      " (2.04, 56973.72989754,  27.82971047, 3.88935168e+00)\n",
      " (2.12, 56973.48898241,  27.81453748, 3.98970729e+00)\n",
      " (2.2 , 56973.22996936,  27.83708787, 4.06122538e+00)\n",
      " (2.28, 56972.95267253,  27.89163812, 4.10080447e+00)\n",
      " (2.36, 56972.6530535 ,  27.97159094, 4.10619138e+00)\n",
      " (2.44, 56972.33490857,  28.07388169, 4.07401370e+00)\n",
      " (2.52, 56971.98626879,  28.19531446, 3.99811734e+00)\n",
      " (2.6 , 56971.59643072,  28.32376317, 3.87783258e+00)\n",
      " (2.68, 56971.13846959,  28.44332682, 3.71196343e+00)\n",
      " (2.76, 56970.57697211,  28.53784333, 3.49569723e+00)\n",
      " (2.84, 56969.8455705 ,  28.58122615, 3.22199838e+00)\n",
      " (2.92, 56968.80981547,  28.52481749, 2.88136927e+00)\n",
      " (3.  , 56939.04629586,   1.49874497, 2.42051524e+00)\n",
      " (3.08, 56939.02211115,   1.49309042, 2.43632117e+00)\n",
      " (3.16, 56940.61325656,   1.        , 1.04189724e+00)\n",
      " (3.24, 56940.54727125,   1.        , 1.04880090e+00)\n",
      " (3.32, 56938.93702576,   1.47001932, 2.43204330e+00)\n",
      " (3.4 , 56938.89759301,   1.45758664, 2.40999389e+00)\n",
      " (3.48, 56993.73401007,  60.28996634, 1.98025688e-19)\n",
      " (3.56, 57224.13670193, 159.26717602, 4.76621313e-20)\n",
      " (3.64, 57342.00785879,   9.46261474, 1.21781487e-17)\n",
      " (3.72, 57340.31211916,   1.16081221, 2.44840075e-16)\n",
      " (3.8 , 57340.18636663,   1.        , 1.30610878e-15)\n",
      " (3.88, 57340.10855365,   1.        , 2.96667859e-15)\n",
      " (3.96, 57340.09165663,   1.        , 7.23568425e-15)\n",
      " (4.04, 57340.13818755,   1.        , 9.11746346e-01)\n",
      " (4.12, 57340.13940668,   1.        , 9.13210834e-01)\n",
      " (4.2 , 57340.14050166,   1.        , 9.14508659e-01)\n",
      " (4.28, 57340.1414847 ,   1.        , 9.15661304e-01)\n",
      " (4.36, 57340.1423671 ,   1.        , 9.16687109e-01)\n",
      " (4.44, 57340.14316135,   1.        , 9.17603915e-01)\n",
      " (4.52, 57340.14387162,   1.        , 9.18420012e-01)\n",
      " (4.6 , 57340.14450906,   1.        , 9.19149740e-01)\n",
      " (4.68, 57340.14508147,   1.        , 9.19803327e-01)\n",
      " (4.76, 57340.1455958 ,   1.        , 9.20389616e-01)\n",
      " (4.84, 57340.14605951,   1.        , 9.20917471e-01)\n",
      " (4.92, 57340.14648106,   1.        , 9.21385550e-01)\n",
      " (5.  , 57340.14689871,   1.        , 9.21774298e-01)]\n"
     ]
    }
   ],
   "source": [
    "print(em_results)"
   ]
  },
  {
   "attachments": {},
   "cell_type": "markdown",
   "metadata": {},
   "source": [
    "Run backgroud trials, i.e. ``mean_n_sig=0``"
   ]
  },
  {
   "cell_type": "code",
   "execution_count": 8,
   "metadata": {},
   "outputs": [],
   "source": [
    "trials = run_trials_with_em(ana=ana, n_trials=100)"
   ]
  },
  {
   "cell_type": "code",
   "execution_count": 10,
   "metadata": {},
   "outputs": [
    {
     "name": "stdout",
     "output_type": "stream",
     "text": [
      "100\n",
      "[(1, 0., 0, 2., -1., -1., -1., -1., 10.57881075,  1.93770601, 1.57171023e+00, 2.0212895 , 2. , 57868.68666897,   1.        )\n",
      " (1, 0., 0, 2., -1., -1., -1., -1., 11.16457887,  1.82272228, 1.53523439e+00, 1.79404364, 2. , 56434.17657502,   1.42796591)\n",
      " (1, 0., 0, 2., -1., -1., -1., -1., 15.04297941,  3.01129945, 2.43597624e+00, 2.40368215, 3. , 57470.8510858 ,   1.        )\n",
      " (1, 0., 0, 2., -1., -1., -1., -1.,  5.16075779,  0.97800975, 9.40510584e-01, 2.84709034, 2.8, 57621.82256898,   1.        )\n",
      " (1, 0., 0, 2., -1., -1., -1., -1.,  9.70279032,  1.40844219, 1.27362046e+00, 1.8902597 , 2.4, 56963.98184302,   1.        )\n",
      " (1, 0., 0, 2., -1., -1., -1., -1.,  8.54088933,  5.12755634, 7.12500344e-16, 4.47638836, 5. , 56547.14600954,  11.72460101)\n",
      " (1, 0., 0, 2., -1., -1., -1., -1.,  7.10243676,  1.85858586, 1.52493429e+00, 5.        , 4. , 56825.48385994,   1.        )\n",
      " (1, 0., 0, 2., -1., -1., -1., -1.,  6.71955446,  1.07266425, 1.01368051e+00, 3.54169938, 5. , 56836.31034136,   1.        )\n",
      " (1, 0., 0, 2., -1., -1., -1., -1.,  9.87743343,  2.21100935, 1.94721017e+00, 5.        , 5. , 57669.56169319,   1.        )\n",
      " (1, 0., 0, 2., -1., -1., -1., -1.,  7.5294897 ,  1.30501532, 1.13299697e+00, 5.        , 5. , 57473.35655577,   1.        )\n",
      " (1, 0., 0, 2., -1., -1., -1., -1.,  9.48701386,  3.36348284, 2.14629824e+00, 4.32568842, 3. , 57112.44377439,   1.09219359)\n",
      " (1, 0., 0, 2., -1., -1., -1., -1.,  5.28542801,  7.08257092, 3.08848493e-18, 2.59043549, 2.4, 58165.97205008,  18.71188838)\n",
      " (1, 0., 0, 2., -1., -1., -1., -1., 11.97019614,  2.04306244, 1.96453625e+00, 2.12459933, 2.6, 56886.34679656,   1.        )\n",
      " (1, 0., 0, 2., -1., -1., -1., -1.,  7.58919595,  1.1578766 , 1.14442705e+00, 1.91044068, 2.4, 57761.28760561,   1.        )\n",
      " (1, 0., 0, 2., -1., -1., -1., -1.,  6.55729301,  0.99080001, 9.63871603e-01, 2.15464345, 2.2, 57044.81466547,   1.        )\n",
      " (1, 0., 0, 2., -1., -1., -1., -1.,  5.48176841,  1.1833329 , 9.97165428e-01, 5.        , 3.2, 57140.53424287,   1.        )\n",
      " (1, 0., 0, 2., -1., -1., -1., -1.,  8.44916508,  1.78402272, 1.51160003e+00, 5.        , 3.2, 57057.21291038,   1.        )\n",
      " (1, 0., 0, 2., -1., -1., -1., -1.,  6.33346617,  1.00569653, 9.71943987e-01, 4.86546888, 3.4, 57745.26685398,   1.        )\n",
      " (1, 0., 0, 2., -1., -1., -1., -1., 15.76962705,  3.06392926, 1.53912033e+00, 2.24015613, 1.4, 58297.47352165,   1.        )\n",
      " (1, 0., 0, 2., -1., -1., -1., -1.,  6.81831395,  1.9829549 , 1.65743381e+00, 4.36905071, 5. , 57295.96878069,   1.        )\n",
      " (1, 0., 0, 2., -1., -1., -1., -1.,  8.79958214,  1.07304949, 1.02794721e+00, 1.96227837, 2.4, 56410.00773182,   1.        )\n",
      " (1, 0., 0, 2., -1., -1., -1., -1.,  7.69667542,  1.83512357, 1.66844358e+00, 2.46183662, 2.6, 57529.18452668,   1.        )\n",
      " (1, 0., 0, 2., -1., -1., -1., -1.,  9.54655264,  1.92463328, 1.11615258e+00, 2.24303959, 1.8, 58148.24249381,   1.        )\n",
      " (1, 0., 0, 2., -1., -1., -1., -1.,  6.93841776,  4.76065243, 2.29454738e-14, 2.62224612, 2.4, 56877.57944662,   9.05568057)\n",
      " (1, 0., 0, 2., -1., -1., -1., -1., 10.41470701,  2.68595373, 2.27324546e+00, 2.6345224 , 2.8, 57340.27708167,   1.        )\n",
      " (1, 0., 0, 2., -1., -1., -1., -1.,  9.46431006,  4.09566618, 2.07781837e+00, 2.70392412, 3.8, 57017.71306247,   1.07626152)\n",
      " (1, 0., 0, 2., -1., -1., -1., -1., 18.27517601,  5.56197519, 4.06395692e+00, 2.33986678, 2. , 56424.6041191 ,   3.70559564)\n",
      " (1, 0., 0, 2., -1., -1., -1., -1.,  8.77893841,  3.86486233, 2.38117998e+00, 5.        , 3. , 57979.44598903,   2.81890896)\n",
      " (1, 0., 0, 2., -1., -1., -1., -1.,  9.99884789,  1.41978657, 1.41839800e+00, 1.81370608, 2.4, 56556.39885431,   1.        )\n",
      " (1, 0., 0, 2., -1., -1., -1., -1.,  8.95920958,  4.53207598, 2.81953355e+00, 5.        , 4. , 57117.15804399,   3.14736853)\n",
      " (1, 0., 0, 2., -1., -1., -1., -1.,  6.69382241,  1.0221369 , 9.93546323e-01, 1.44507318, 1.6, 58192.86189713,   1.        )\n",
      " (1, 0., 0, 2., -1., -1., -1., -1.,  4.52770322,  7.55266242, 7.85177945e-17, 5.        , 5. , 56622.60229072,  60.16972115)\n",
      " (1, 0., 0, 2., -1., -1., -1., -1.,  7.20913867,  1.0028399 , 9.78649179e-01, 1.4500012 , 1.2, 56511.45139075,   1.        )\n",
      " (1, 0., 0, 2., -1., -1., -1., -1., 12.6103465 ,  2.85941066, 2.58662460e+00, 5.        , 5. , 57580.42469475,   1.5372444 )\n",
      " (1, 0., 0, 2., -1., -1., -1., -1.,  7.86351243,  1.02868632, 1.00369589e+00, 1.76688726, 2.2, 57763.67305782,   1.        )\n",
      " (1, 0., 0, 2., -1., -1., -1., -1., 18.75165459,  1.23967396, 1.70531291e+00, 1.54099448, 2.6, 57426.60258084,   3.7935669 )\n",
      " (1, 0., 0, 2., -1., -1., -1., -1.,  8.32981227,  7.96187093, 2.29035251e-18, 5.        , 3.4, 57847.84789741,  15.36614478)\n",
      " (1, 0., 0, 2., -1., -1., -1., -1.,  6.52822685,  1.02448562, 9.91041585e-01, 2.10046636, 2.4, 56860.74733259,   1.        )\n",
      " (1, 0., 0, 2., -1., -1., -1., -1.,  7.02283034,  1.99838144, 1.46503667e+00, 5.        , 5. , 57709.09155349,   1.        )\n",
      " (1, 0., 0, 2., -1., -1., -1., -1.,  7.53119502,  1.45984755, 1.22858889e+00, 5.        , 5. , 57016.72047767,   1.        )\n",
      " (1, 0., 0, 2., -1., -1., -1., -1., 10.25433796,  2.33966364, 1.94276291e+00, 2.37653104, 2.4, 57958.59607914,   1.        )\n",
      " (1, 0., 0, 2., -1., -1., -1., -1., 11.04432176,  2.92779217, 2.91843982e-15, 2.76736775, 2.2, 57645.73456799,   1.        )\n",
      " (1, 0., 0, 2., -1., -1., -1., -1.,  5.16816297,  0.99552797, 9.31495465e-01, 1.70827094, 1.4, 56144.48818221,   1.        )\n",
      " (1, 0., 0, 2., -1., -1., -1., -1.,  7.78932459,  1.40758422, 1.20369249e+00, 2.33231181, 2.4, 56765.17188706,   1.        )\n",
      " (1, 0., 0, 2., -1., -1., -1., -1.,  6.88403781,  1.51767531, 1.23557514e+00, 2.67002721, 3.2, 57677.02982767,   1.        )\n",
      " (1, 0., 0, 2., -1., -1., -1., -1.,  2.7115307 ,  0.9082581 , 7.77911559e-01, 1.84706995, 1.8, 56854.78092106,   1.        )\n",
      " (1, 0., 0, 2., -1., -1., -1., -1., 13.94748731,  3.75386094, 2.89411549e+00, 5.        , 3.8, 57386.36882361,   1.        )\n",
      " (1, 0., 0, 2., -1., -1., -1., -1.,  9.12525761,  3.67332284, 2.70389073e+00, 5.        , 5. , 56957.19198335,   4.09041817)\n",
      " (1, 0., 0, 2., -1., -1., -1., -1., 18.59300924,  3.5924602 , 3.18701252e+00, 2.77972042, 3.2, 56695.94331874,   1.        )\n",
      " (1, 0., 0, 2., -1., -1., -1., -1., 12.48953759,  3.76687941, 2.91614621e+00, 3.29096068, 3.4, 57110.44024932,   1.        )\n",
      " (1, 0., 0, 2., -1., -1., -1., -1., 11.17908351,  2.13827783, 1.98096792e+00, 2.33821477, 2.4, 57933.90046542,   1.        )\n",
      " (1, 0., 0, 2., -1., -1., -1., -1., 11.82593091,  2.13421131, 1.77631023e+00, 2.2591039 , 2.4, 57412.44228585,   1.        )\n",
      " (1, 0., 0, 2., -1., -1., -1., -1.,  4.98467951,  1.17044573, 1.00747748e+00, 5.        , 3.8, 56568.35678351,   1.        )\n",
      " (1, 0., 0, 2., -1., -1., -1., -1.,  9.41481301,  2.72013042, 2.41323740e+00, 3.5927971 , 4. , 56635.55068146,   1.03232638)\n",
      " (1, 0., 0, 2., -1., -1., -1., -1.,  5.72984439,  3.99709671, 1.74344231e+00, 2.2612241 , 2. , 56831.53354194,   8.90850809)\n",
      " (1, 0., 0, 2., -1., -1., -1., -1.,  9.43246103, 25.61622996, 5.38029423e-15, 4.80981387, 4.6, 56903.99958334, 269.45112344)\n",
      " (1, 0., 0, 2., -1., -1., -1., -1., 11.78120728,  2.83796174, 2.33372561e+00, 4.25495351, 4.4, 57179.18417867,   1.        )\n",
      " (1, 0., 0, 2., -1., -1., -1., -1.,  9.51357082,  1.01147061, 9.89559073e-01, 1.67687276, 1. , 56362.31820273,   1.        )\n",
      " (1, 0., 0, 2., -1., -1., -1., -1., 13.14275121,  2.63750797, 2.35343866e+00, 5.        , 5. , 57348.58474975,   1.        )\n",
      " (1, 0., 0, 2., -1., -1., -1., -1., 11.14470442,  3.40207945, 1.44553222e-15, 5.        , 3.8, 56908.48960349,   3.80030526)\n",
      " (1, 0., 0, 2., -1., -1., -1., -1.,  9.43381114,  2.73810546, 2.08523513e+00, 3.84839692, 3. , 56843.73868602,   1.48761008)\n",
      " (1, 0., 0, 2., -1., -1., -1., -1.,  8.21232122,  2.17221022, 1.21827325e+00, 2.48692908, 3.6, 57844.5640379 ,   1.        )\n",
      " (1, 0., 0, 2., -1., -1., -1., -1.,  9.57941545,  6.32727   , 3.01074631e+00, 5.        , 5. , 56828.13666159,   7.52474536)\n",
      " (1, 0., 0, 2., -1., -1., -1., -1.,  7.21442229,  3.65256178, 4.28683869e-21, 2.27582231, 1.6, 57097.79469225,   1.97580355)\n",
      " (1, 0., 0, 2., -1., -1., -1., -1., 11.1474455 ,  2.67694019, 2.20483577e+00, 2.07027013, 2.4, 57750.54958968,   1.        )\n",
      " (1, 0., 0, 2., -1., -1., -1., -1.,  8.63895189,  5.19171253, 4.29060320e-17, 5.        , 4. , 57217.07986211,   6.33459237)\n",
      " (1, 0., 0, 2., -1., -1., -1., -1., 11.61619759,  8.33428713, 1.08612659e-16, 3.15929541, 2.4, 57614.62986965,  11.35514254)\n",
      " (1, 0., 0, 2., -1., -1., -1., -1.,  7.08747475,  1.04633489, 9.91071665e-01, 2.01407587, 1.8, 56548.58984966,   1.        )\n",
      " (1, 0., 0, 2., -1., -1., -1., -1.,  8.85649065,  1.68934913, 1.44069055e+00, 1.99340262, 2. , 56710.5981298 ,   1.        )\n",
      " (1, 0., 0, 2., -1., -1., -1., -1., 16.76763958,  5.55891997, 4.29807232e+00, 3.81891001, 3. , 57700.32575126,   1.99361402)\n",
      " (1, 0., 0, 2., -1., -1., -1., -1., 10.36117645,  2.57351595, 1.87410683e+00, 2.54355183, 2.6, 57744.84360786,   1.16738055)\n",
      " (1, 0., 0, 2., -1., -1., -1., -1.,  7.42891981,  1.03655524, 9.96669431e-01, 1.85364502, 2.6, 56697.65757791,   1.        )\n",
      " (1, 0., 0, 2., -1., -1., -1., -1.,  8.30352554,  1.91429177, 1.55183311e+00, 2.52160024, 2.4, 57822.62183547,   1.20171559)\n",
      " (1, 0., 0, 2., -1., -1., -1., -1.,  9.66091001,  3.15076615, 2.29939355e+00, 2.12004426, 2.2, 57355.6080702 ,   6.17448996)\n",
      " (1, 0., 0, 2., -1., -1., -1., -1.,  9.43242069,  2.00079038, 1.76896733e+00, 4.11487973, 5. , 57779.60005369,   1.        )\n",
      " (1, 0., 0, 2., -1., -1., -1., -1.,  7.97645913,  2.44540041, 1.62897332e+00, 5.        , 3. , 57230.41520154,   1.        )\n",
      " (1, 0., 0, 2., -1., -1., -1., -1., 16.74824409,  2.95772921, 2.57325774e+00, 5.        , 2.8, 57724.25944939,   1.        )\n",
      " (1, 0., 0, 2., -1., -1., -1., -1.,  5.630838  ,  1.14086472, 1.06262584e+00, 2.05557435, 2.4, 57487.61718878,   1.        )\n",
      " (1, 0., 0, 2., -1., -1., -1., -1., 14.5100469 ,  5.46327078, 3.77260813e+00, 3.58737308, 2.8, 56965.49784139,   1.56640624)\n",
      " (1, 0., 0, 2., -1., -1., -1., -1., 11.80134335,  3.78610039, 3.08215941e+00, 2.48434202, 2.6, 57240.95162288,   1.06242106)\n",
      " (1, 0., 0, 2., -1., -1., -1., -1., 11.42913989,  3.14326725, 2.38290516e+00, 2.68025522, 3.2, 58049.83443294,   1.        )\n",
      " (1, 0., 0, 2., -1., -1., -1., -1., 11.24473183,  3.23928744, 2.56270954e+00, 2.51265795, 3. , 56866.06119804,   3.66619617)\n",
      " (1, 0., 0, 2., -1., -1., -1., -1.,  9.68426991,  2.95753249, 2.51017827e+00, 2.3744392 , 2.2, 56835.12327541,   1.        )\n",
      " (1, 0., 0, 2., -1., -1., -1., -1., 10.01247469,  1.94783869, 1.82825651e+00, 5.        , 5. , 56851.89709146,   1.05118545)\n",
      " (1, 0., 0, 2., -1., -1., -1., -1.,  6.96585468, 16.5876408 , 1.90326140e-18, 5.        , 2.8, 57406.92170473, 169.93119602)\n",
      " (1, 0., 0, 2., -1., -1., -1., -1.,  8.52181801,  1.91077116, 1.67140140e+00, 2.34957375, 2.8, 57823.20707853,   1.        )\n",
      " (1, 0., 0, 2., -1., -1., -1., -1.,  9.1960773 ,  2.44923754, 1.64640403e+00, 3.47472226, 2.6, 56927.07717885,   1.        )\n",
      " (1, 0., 0, 2., -1., -1., -1., -1.,  7.1851879 ,  2.2743311 , 1.70222520e+00, 3.26160866, 3.2, 57247.61771261,   1.        )\n",
      " (1, 0., 0, 2., -1., -1., -1., -1., 24.47110113,  4.0777177 , 3.57805340e+00, 2.35829766, 3.4, 56898.02209154,   1.28915367)\n",
      " (1, 0., 0, 2., -1., -1., -1., -1.,  8.89801355,  2.87718176, 1.98232207e-12, 5.        , 3.8, 57213.23475454,   1.        )\n",
      " (1, 0., 0, 2., -1., -1., -1., -1.,  7.88499934,  2.06764608, 1.18385851e+00, 2.0508959 , 1.2, 56848.8489448 ,   1.        )\n",
      " (1, 0., 0, 2., -1., -1., -1., -1., 10.41220155,  2.38467756, 1.62539100e+00, 5.        , 2.8, 56371.57546125,   1.        )\n",
      " (1, 0., 0, 2., -1., -1., -1., -1., 18.14212016,  3.05659861, 2.70598522e+00, 2.13166951, 2.8, 57625.14068729,   1.        )\n",
      " (1, 0., 0, 2., -1., -1., -1., -1., 12.70155932,  2.76741293, 2.54057231e+00, 2.36600883, 2.6, 56463.21404128,   1.35449865)\n",
      " (1, 0., 0, 2., -1., -1., -1., -1., 11.16814572,  2.73485244, 2.11225344e+00, 3.73716112, 5. , 57893.1108206 ,   1.        )\n",
      " (1, 0., 0, 2., -1., -1., -1., -1.,  5.58580045,  1.12593647, 9.90984368e-01, 5.        , 3.2, 57802.60190936,   1.        )\n",
      " (1, 0., 0, 2., -1., -1., -1., -1.,  3.89126734,  0.9872355 , 8.84932388e-30, 1.99565845, 1.4, 56873.47919561,   1.02031129)\n",
      " (1, 0., 0, 2., -1., -1., -1., -1., 11.26830695,  2.20932047, 1.78747278e+00, 2.24659113, 2.4, 57195.89024858,   1.58940132)\n",
      " (1, 0., 0, 2., -1., -1., -1., -1., 10.93946286,  1.97911541, 1.82806577e+00, 2.32871633, 2.8, 56534.45927423,   1.        )\n",
      " (1, 0., 0, 2., -1., -1., -1., -1., 14.87037294,  3.53446881, 2.35520327e+00, 2.7020559 , 2.4, 56391.35394291,   1.        )]\n"
     ]
    }
   ],
   "source": [
    "print(len(trials))\n",
    "print(trials)"
   ]
  },
  {
   "cell_type": "code",
   "execution_count": 12,
   "metadata": {},
   "outputs": [
    {
     "data": {
      "text/plain": [
       "(array([ 3., 18., 28., 29., 10.,  4.,  3.,  4.,  0.,  1.]),\n",
       " array([ 2.7115307 ,  4.88748774,  7.06344479,  9.23940183, 11.41535887,\n",
       "        13.59131591, 15.76727296, 17.94323   , 20.11918704, 22.29514408,\n",
       "        24.47110113]),\n",
       " <BarContainer object of 10 artists>)"
      ]
     },
     "execution_count": 12,
     "metadata": {},
     "output_type": "execute_result"
    },
    {
     "data": {
      "image/png": "[encoded data removed]",
      "text/plain": [
       "<Figure size 640x480 with 1 Axes>"
      ]
     },
     "metadata": {},
     "output_type": "display_data"
    }
   ],
   "source": [
    "plt.hist(trials[\"ts\"])"
   ]
  },
  {
   "cell_type": "code",
   "execution_count": null,
   "metadata": {},
   "outputs": [],
   "source": []
  }
 ],
 "metadata": {
  "kernelspec": {
   "display_name": ".venv",
   "language": "python",
   "name": "python3"
  },
  "language_info": {
   "codemirror_mode": {
    "name": "ipython",
    "version": 3
   },
   "file_extension": ".py",
   "mimetype": "text/x-python",
   "name": "python",
   "nbconvert_exporter": "python",
   "pygments_lexer": "ipython3",
   "version": "3.10.6"
  },
  "orig_nbformat": 4
 },
 "nbformat": 4,
 "nbformat_minor": 2
}
