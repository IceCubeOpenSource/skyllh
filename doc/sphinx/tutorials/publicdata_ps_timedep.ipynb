{
 "cells": [
  {
   "attachments": {},
   "cell_type": "markdown",
   "metadata": {},
   "source": [
    "This tutorial shows how to use the public point-source data for a time dependent point-source analysis. The time fit is performed by the expectation maximization (EM) algorithm.   "
   ]
  },
  {
   "cell_type": "code",
   "execution_count": 1,
   "metadata": {},
   "outputs": [],
   "source": [
    "import numpy as np\n",
    "\n",
    "from skyllh.analyses.i3.publicdata_ps.time_dependent_ps import (\n",
    "    create_analysis,\n",
    "    run_gamma_scan_single_flare,\n",
    ")\n",
    "from skyllh.core.random import RandomStateService\n",
    "from skyllh.datasets.i3.PublicData_10y_ps import create_dataset_collection\n",
    "from skyllh.physics.source_model import PointLikeSource"
   ]
  },
  {
   "cell_type": "code",
   "execution_count": 2,
   "metadata": {},
   "outputs": [],
   "source": [
    "dsc = create_dataset_collection(\n",
    "    base_path=\"/home/mwolf/projects/publicdata_ps/\")\n",
    "datasets = dsc.get_datasets([\"IC86_II-VII\"])"
   ]
  },
  {
   "cell_type": "code",
   "execution_count": 3,
   "metadata": {},
   "outputs": [],
   "source": [
    "source = PointLikeSource(\n",
    "    ra=np.deg2rad(77.3581851), \n",
    "    dec=np.deg2rad(5.69314828))"
   ]
  },
  {
   "cell_type": "code",
   "execution_count": 4,
   "metadata": {},
   "outputs": [
    {
     "name": "stderr",
     "output_type": "stream",
     "text": [
      "100%|██████████| 43/43 [00:05<00:00,  8.07it/s]\n",
      "100%|██████████| 1/1 [00:11<00:00, 11.46s/it]\n",
      "100%|██████████| 44/44 [00:00<00:00, 6947.61it/s]\n"
     ]
    }
   ],
   "source": [
    "ana = create_analysis(\n",
    "    datasets=datasets, \n",
    "    source=source, \n",
    "    refplflux_gamma=2.0, \n",
    "    gauss={\"mu\":57000, \"sigma\": 65})"
   ]
  },
  {
   "cell_type": "code",
   "execution_count": 5,
   "metadata": {},
   "outputs": [],
   "source": [
    "def run_em_on_unblinded_flare(ana, remove_time=None):\n",
    "    \"\"\"Run the EM on unblinded data. Similar to the original analysis, \n",
    "    remove the alert event.\n",
    "\n",
    "    Parameters\n",
    "    ----------\n",
    "    remove_time : float\n",
    "        Time of the event that should be removed.\n",
    "        In the case of the TXS analysis: remove_time=58018.8711856.\n",
    "\n",
    "    Returns\n",
    "    -------\n",
    "    results : instance of numpy structured ndarray\n",
    "        The numpy structured ndarray with fields\n",
    "\n",
    "        gamma : float\n",
    "            The spectral index value.\n",
    "        mu : float\n",
    "            The determined mean value of the gauss curve.\n",
    "        sigma : float\n",
    "            The determoned standard deviation of the gauss curve.\n",
    "        ns_em : float\n",
    "            The scaling factor of the flare.\n",
    "    \"\"\"\n",
    "    rss = RandomStateService(seed=1)\n",
    "    ana.unblind(rss=rss)\n",
    "    \n",
    "    results = run_gamma_scan_single_flare(\n",
    "        ana=ana, \n",
    "        remove_time=remove_time)\n",
    "    \n",
    "    return results\n"
   ]
  },
  {
   "cell_type": "code",
   "execution_count": 6,
   "metadata": {},
   "outputs": [],
   "source": [
    "em_results = run_em_on_unblinded_flare(ana=ana, remove_time=58018.8711856)"
   ]
  },
  {
   "cell_type": "code",
   "execution_count": 7,
   "metadata": {},
   "outputs": [
    {
     "name": "stdout",
     "output_type": "stream",
     "text": [
      "[(1.  , 56973.23708581,  31.3563052 , 1.79515876e+00)\n",
      " (1.08, 56973.54484189,  31.14357769, 1.90863994e+00)\n",
      " (1.16, 56973.83307677,  30.87665456, 2.03884445e+00)\n",
      " (1.24, 56974.08415341,  30.55533666, 2.18552345e+00)\n",
      " (1.32, 56974.28746397,  30.18832367, 2.34723234e+00)\n",
      " (1.4 , 56974.43460415,  29.79011038, 2.52276533e+00)\n",
      " (1.48, 56974.52115046,  29.38462682, 2.70882968e+00)\n",
      " (1.56, 56974.54623867,  28.99947969, 2.90061350e+00)\n",
      " (1.64, 56974.51341733,  28.66214757, 3.09018079e+00)\n",
      " (1.72, 56974.43221152,  28.37640449, 3.27745255e+00)\n",
      " (1.8 , 56974.30631703,  28.15416286, 3.45507477e+00)\n",
      " (1.88, 56974.14586177,  27.99657819, 3.61748184e+00)\n",
      " (1.96, 56973.9490699 ,  27.88953708, 3.76387819e+00)\n",
      " (2.04, 56973.72989754,  27.82971047, 3.88935168e+00)\n",
      " (2.12, 56973.48898241,  27.81453748, 3.98970729e+00)\n",
      " (2.2 , 56973.22996936,  27.83708787, 4.06122538e+00)\n",
      " (2.28, 56972.95267253,  27.89163812, 4.10080447e+00)\n",
      " (2.36, 56972.6530535 ,  27.97159094, 4.10619138e+00)\n",
      " (2.44, 56972.33490857,  28.07388169, 4.07401370e+00)\n",
      " (2.52, 56971.98626879,  28.19531446, 3.99811734e+00)\n",
      " (2.6 , 56971.59643072,  28.32376317, 3.87783258e+00)\n",
      " (2.68, 56971.13846959,  28.44332682, 3.71196343e+00)\n",
      " (2.76, 56970.57697211,  28.53784333, 3.49569723e+00)\n",
      " (2.84, 56969.8455705 ,  28.58122615, 3.22199838e+00)\n",
      " (2.92, 56968.80981547,  28.52481749, 2.88136927e+00)\n",
      " (3.  , 56939.04629586,   1.49874497, 2.42051524e+00)\n",
      " (3.08, 56939.02211115,   1.49309042, 2.43632117e+00)\n",
      " (3.16, 56940.61325656,   1.        , 1.04189724e+00)\n",
      " (3.24, 56940.54727125,   1.        , 1.04880090e+00)\n",
      " (3.32, 56938.93702576,   1.47001932, 2.43204330e+00)\n",
      " (3.4 , 56938.89759301,   1.45758664, 2.40999389e+00)\n",
      " (3.48, 56993.73401007,  60.28996634, 1.98025688e-19)\n",
      " (3.56, 57224.13670193, 159.26717602, 4.76621313e-20)\n",
      " (3.64, 57342.00785879,   9.46261474, 1.21781487e-17)\n",
      " (3.72, 57340.31211916,   1.16081221, 2.44840075e-16)\n",
      " (3.8 , 57340.18636663,   1.        , 1.30610878e-15)\n",
      " (3.88, 57340.10855365,   1.        , 2.96667859e-15)\n",
      " (3.96, 57340.09165663,   1.        , 7.23568425e-15)\n",
      " (4.04, 57340.13818755,   1.        , 9.11746346e-01)\n",
      " (4.12, 57340.13940668,   1.        , 9.13210834e-01)\n",
      " (4.2 , 57340.14050166,   1.        , 9.14508659e-01)\n",
      " (4.28, 57340.1414847 ,   1.        , 9.15661304e-01)\n",
      " (4.36, 57340.1423671 ,   1.        , 9.16687109e-01)\n",
      " (4.44, 57340.14316135,   1.        , 9.17603915e-01)\n",
      " (4.52, 57340.14387162,   1.        , 9.18420012e-01)\n",
      " (4.6 , 57340.14450906,   1.        , 9.19149740e-01)\n",
      " (4.68, 57340.14508147,   1.        , 9.19803327e-01)\n",
      " (4.76, 57340.1455958 ,   1.        , 9.20389616e-01)\n",
      " (4.84, 57340.14605951,   1.        , 9.20917471e-01)\n",
      " (4.92, 57340.14648106,   1.        , 9.21385550e-01)\n",
      " (5.  , 57340.14689871,   1.        , 9.21774298e-01)]\n"
     ]
    }
   ],
   "source": [
    "print(em_results)"
   ]
  },
  {
   "cell_type": "code",
   "execution_count": 8,
   "metadata": {},
   "outputs": [
    {
     "data": {
      "text/plain": [
       "51"
      ]
     },
     "execution_count": 8,
     "metadata": {},
     "output_type": "execute_result"
    }
   ],
   "source": [
    "len(em_results)"
   ]
  },
  {
   "cell_type": "code",
   "execution_count": null,
   "metadata": {},
   "outputs": [],
   "source": []
  }
 ],
 "metadata": {
  "kernelspec": {
   "display_name": ".venv",
   "language": "python",
   "name": "python3"
  },
  "language_info": {
   "codemirror_mode": {
    "name": "ipython",
    "version": 3
   },
   "file_extension": ".py",
   "mimetype": "text/x-python",
   "name": "python",
   "nbconvert_exporter": "python",
   "pygments_lexer": "ipython3",
   "version": "3.10.6"
  },
  "orig_nbformat": 4
 },
 "nbformat": 4,
 "nbformat_minor": 2
}
