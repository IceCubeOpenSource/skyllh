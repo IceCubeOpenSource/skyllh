{
 "cells": [
  {
   "cell_type": "markdown",
   "id": "0b906063-5b59-4428-96fd-289fc465ebec",
   "metadata": {},
   "source": [
    "# Introduction\n",
    "\n",
    "The user can find pre-defined IceCube log-likelihood analyses in \"i3skyllh\"\n",
    "project.\n",
    "\n",
    "\n",
    "## Setup\n",
    "\n",
    "To set-up and run an analysis the following procedure applies:\n",
    "\n",
    "1. Create an analysis instance.\n",
    "2. Add the datasets and their PDF ratio instances via the\n",
    "   :meth:`~.Analysis.add_dataset` method.\n",
    "3. Construct the log-likelihood ratio function via the\n",
    "   :meth:`~.Analysis.construct_llhratio` method.\n",
    "4. Call the :meth:`.do_trial` or :meth:`.unblind` method to perform a\n",
    "   random trial or to unblind the data. Both methods will fit the global\n",
    "   fit parameters using the set up data. Finally, the test statistic\n",
    "   is calculated via the :meth:`.calculate_test_statistic` method.\n"
   ]
  }
 ],
 "metadata": {
  "kernelspec": {
   "display_name": "Python 3 (ipykernel)",
   "language": "python",
   "name": "python3"
  },
  "language_info": {
   "codemirror_mode": {
    "name": "ipython",
    "version": 3
   },
   "file_extension": ".py",
   "mimetype": "text/x-python",
   "name": "python",
   "nbconvert_exporter": "python",
   "pygments_lexer": "ipython3",
   "version": "3.8.10"
  }
 },
 "nbformat": 4,
 "nbformat_minor": 5
}
