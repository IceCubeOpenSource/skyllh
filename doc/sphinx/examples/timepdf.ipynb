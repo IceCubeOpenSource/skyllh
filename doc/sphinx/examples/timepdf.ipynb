{
 "cells": [
  {
   "attachments": {},
   "cell_type": "markdown",
   "metadata": {},
   "source": [
    "# Example how-to create a signal time PDF"
   ]
  },
  {
   "cell_type": "code",
   "execution_count": 1,
   "metadata": {},
   "outputs": [],
   "source": [
    "from matplotlib import pyplot as plt\n",
    "import numpy as np\n",
    "\n",
    "from skyllh.core.detsigyield import NullDetSigYieldBuilder\n",
    "from skyllh.core.livetime import Livetime\n",
    "from skyllh.core.model import SourceModel\n",
    "from skyllh.core.parameters import ParameterModelMapper\n",
    "from skyllh.core.signalpdf import SignalTimePDF\n",
    "from skyllh.core.source_hypo_grouping import (\n",
    "    SourceHypoGroup,\n",
    "    SourceHypoGroupManager,\n",
    ")\n",
    "from skyllh.core.storage import DataFieldRecordArray\n",
    "from skyllh.core.trialdata import TrialDataManager\n",
    "from skyllh.physics.flux_model import (\n",
    "    BoxTimeFluxProfile,\n",
    "    NullFluxModel,\n",
    ")"
   ]
  },
  {
   "cell_type": "code",
   "execution_count": 2,
   "metadata": {},
   "outputs": [],
   "source": [
    "livetime_data = np.array([\n",
    "        [1, 3], \n",
    "        [4, 7],\n",
    "        [8, 9],\n",
    "    ],\n",
    "    dtype=np.float64)\n",
    "livetime = Livetime(livetime_data)"
   ]
  },
  {
   "cell_type": "code",
   "execution_count": 3,
   "metadata": {},
   "outputs": [
    {
     "name": "stdout",
     "output_type": "stream",
     "text": [
      "t_start = 2.0\n",
      "t_stop = 8.0\n"
     ]
    }
   ],
   "source": [
    "time_flux_profile = BoxTimeFluxProfile(t0=5, tw=6)\n",
    "print(f't_start = {time_flux_profile.t_start}')\n",
    "print(f't_stop = {time_flux_profile.t_stop}')"
   ]
  },
  {
   "cell_type": "code",
   "execution_count": 4,
   "metadata": {},
   "outputs": [],
   "source": [
    "sigpdf = SignalTimePDF(\n",
    "    pmm=None, \n",
    "    livetime=livetime, \n",
    "    time_flux_profile=time_flux_profile)"
   ]
  },
  {
   "cell_type": "code",
   "execution_count": 5,
   "metadata": {},
   "outputs": [],
   "source": [
    "shg_mgr = SourceHypoGroupManager(\n",
    "    SourceHypoGroup(\n",
    "        sources=SourceModel(),\n",
    "        fluxmodel=NullFluxModel(),\n",
    "        detsigyield_builders=NullDetSigYieldBuilder())\n",
    ")\n",
    "pmm = ParameterModelMapper(models=shg_mgr.source_list)\n",
    "t = np.linspace(0, 10, int(10/0.05))\n",
    "events = DataFieldRecordArray(np.array(t, dtype=[('time', np.float64)]))\n",
    "tdm = TrialDataManager()\n",
    "tdm.initialize_trial(\n",
    "    shg_mgr=shg_mgr, \n",
    "    pmm=pmm,\n",
    "    events=events)"
   ]
  },
  {
   "cell_type": "code",
   "execution_count": 6,
   "metadata": {},
   "outputs": [
    {
     "data": {
      "text/plain": [
       "1.0050251256281408"
      ]
     },
     "execution_count": 6,
     "metadata": {},
     "output_type": "execute_result"
    }
   ],
   "source": [
    "sigpdf.initialize_for_new_trial(tdm=tdm)\n",
    "(pd, grads) = sigpdf.get_pd(\n",
    "    tdm=tdm, \n",
    "    src_params_recarray=pmm.create_src_params_recarray([]))\n",
    "total_integral = np.sum(pd[1:]*np.diff(t))\n",
    "print(f'total integral = {total_integral}')"
   ]
  },
  {
   "cell_type": "code",
   "execution_count": 7,
   "metadata": {},
   "outputs": [
    {
     "data": {
      "text/plain": [
       "[<matplotlib.lines.Line2D at 0x7ff499d55d80>]"
      ]
     },
     "execution_count": 7,
     "metadata": {},
     "output_type": "execute_result"
    },
    {
     "data": {
      "image/png": "[encoded data removed]",
      "text/plain": [
       "<Figure size 600x400 with 1 Axes>"
      ]
     },
     "metadata": {},
     "output_type": "display_data"
    }
   ],
   "source": [
    "fig = plt.figure(figsize=(6, 4))\n",
    "ax = fig.add_subplot()\n",
    "ax.plot(t, pd, drawstyle='steps')"
   ]
  },
  {
   "cell_type": "code",
   "execution_count": 8,
   "metadata": {},
   "outputs": [],
   "source": [
    "from skyllh.core.signalpdf import FixedBoxSignalTimePDF"
   ]
  },
  {
   "cell_type": "code",
   "execution_count": 9,
   "metadata": {},
   "outputs": [
    {
     "name": "stdout",
     "output_type": "stream",
     "text": [
      "[(1., 3.) (4., 7.) (8., 9.)]\n"
     ]
    }
   ],
   "source": [
    "grl = np.zeros(\n",
    "    livetime_data.shape[0], \n",
    "    dtype=[('start', np.float64), ('stop', np.float64)])\n",
    "grl['start'] = livetime_data[:, 0]\n",
    "grl['stop'] = livetime_data[:, 1]\n",
    "sigpdf2 = FixedBoxSignalTimePDF(grl=grl, start=2, stop=7)"
   ]
  },
  {
   "cell_type": "code",
   "execution_count": 10,
   "metadata": {},
   "outputs": [],
   "source": [
    "sigpdf2.initialize_for_new_trial(tdm=tdm)\n",
    "(pd, grads) = sigpdf2.get_pd(tdm=tdm, params_recarray=pmm.create_src_params_recarray([]))"
   ]
  },
  {
   "cell_type": "code",
   "execution_count": 11,
   "metadata": {},
   "outputs": [
    {
     "data": {
      "text/plain": [
       "[<matplotlib.lines.Line2D at 0x7ff497a06260>]"
      ]
     },
     "execution_count": 11,
     "metadata": {},
     "output_type": "execute_result"
    },
    {
     "data": {
      "image/png": "[encoded data removed]",
      "text/plain": [
       "<Figure size 600x400 with 1 Axes>"
      ]
     },
     "metadata": {},
     "output_type": "display_data"
    }
   ],
   "source": [
    "fig = plt.figure(figsize=(6, 4))\n",
    "ax = fig.add_subplot()\n",
    "ax.plot(t, pd, drawstyle='steps')"
   ]
  },
  {
   "cell_type": "code",
   "execution_count": 12,
   "metadata": {},
   "outputs": [
    {
     "data": {
      "text/plain": [
       "1.0050251256281408"
      ]
     },
     "execution_count": 12,
     "metadata": {},
     "output_type": "execute_result"
    }
   ],
   "source": [
    "np.sum(pd[1:]*np.diff(t))"
   ]
  },
  {
   "cell_type": "code",
   "execution_count": null,
   "metadata": {},
   "outputs": [],
   "source": []
  }
 ],
 "metadata": {
  "kernelspec": {
   "display_name": ".venv",
   "language": "python",
   "name": "python3"
  },
  "language_info": {
   "codemirror_mode": {
    "name": "ipython",
    "version": 3
   },
   "file_extension": ".py",
   "mimetype": "text/x-python",
   "name": "python",
   "nbconvert_exporter": "python",
   "pygments_lexer": "ipython3",
   "version": "3.10.6"
  },
  "orig_nbformat": 4
 },
 "nbformat": 4,
 "nbformat_minor": 2
}
